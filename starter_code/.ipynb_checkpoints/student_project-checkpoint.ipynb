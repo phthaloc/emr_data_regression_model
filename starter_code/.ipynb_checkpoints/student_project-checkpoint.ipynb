{
 "cells": [
  {
   "cell_type": "markdown",
   "metadata": {},
   "source": [
    "# Overview"
   ]
  },
  {
   "cell_type": "markdown",
   "metadata": {},
   "source": [
    "1. Project Instructions & Prerequisites\n",
    "2. Learning Objectives\n",
    "3. Data Preparation\n",
    "4. Create Categorical Features with TF Feature Columns\n",
    "5. Create Continuous/Numerical Features with TF Feature Columns\n",
    "6. Build Deep Learning Regression Model with Sequential API and TF Probability Layers\n",
    "7. Evaluating Potential Model Biases with Aequitas Toolkit\n"
   ]
  },
  {
   "cell_type": "markdown",
   "metadata": {},
   "source": [
    "#  1. Project Instructions & Prerequisites"
   ]
  },
  {
   "cell_type": "markdown",
   "metadata": {},
   "source": [
    "## Project Instructions"
   ]
  },
  {
   "cell_type": "markdown",
   "metadata": {},
   "source": [
    "**Context**: EHR data is becoming a key source of real-world evidence (RWE) for the pharmaceutical industry and regulators to [make decisions on clinical trials](https://www.fda.gov/news-events/speeches-fda-officials/breaking-down-barriers-between-clinical-trials-and-clinical-care-incorporating-real-world-evidence). You are a data scientist for an exciting unicorn healthcare startup that has created a groundbreaking diabetes drug that is ready for clinical trial testing. It is a very unique and sensitive drug that requires administering the drug over at least 5-7 days of time in the hospital with frequent monitoring/testing and patient medication adherence training with a mobile application. You have been provided a patient dataset from a client partner and are tasked with building a predictive model that can identify which type of patients the company should focus their efforts testing this drug on. Target patients are people that are likely to be in the hospital for this duration of time and will not incur significant additional costs for administering this drug to the patient and monitoring.  \n",
    "\n",
    "In order to achieve your goal you must build a regression model that can predict the estimated hospitalization time for a patient and use this to select/filter patients for your study.\n"
   ]
  },
  {
   "cell_type": "markdown",
   "metadata": {},
   "source": [
    "**Expected Hospitalization Time Regression Model:** Utilizing a synthetic dataset(denormalized at the line level augmentation) built off of the UCI Diabetes readmission dataset, students will build a regression model that predicts the expected days of hospitalization time and then convert this to a binary prediction of whether to include or exclude that patient from the clinical trial.\n",
    "\n",
    "This project will demonstrate the importance of building the right data representation at the encounter level, with appropriate filtering and preprocessing/feature engineering of key medical code sets. This project will also require students to analyze and interpret their model for biases across key demographic groups. \n",
    "\n",
    "Please see the project rubric online for more details on the areas your project will be evaluated."
   ]
  },
  {
   "cell_type": "markdown",
   "metadata": {},
   "source": [
    "### Dataset"
   ]
  },
  {
   "cell_type": "markdown",
   "metadata": {},
   "source": [
    "Due to healthcare PHI regulations (HIPAA, HITECH), there are limited number of publicly available datasets and some datasets require training and approval. So, for the purpose of this exercise, we are using a dataset from UC Irvine(https://archive.ics.uci.edu/ml/datasets/Diabetes+130-US+hospitals+for+years+1999-2008) that has been modified for this course. Please note that it is limited in its representation of some key features such as diagnosis codes which are usually an unordered list in 835s/837s (the HL7 standard interchange formats used for claims and remits)."
   ]
  },
  {
   "cell_type": "markdown",
   "metadata": {},
   "source": [
    "**Data Schema**\n",
    "The dataset reference information can be https://github.com/udacity/nd320-c1-emr-data-starter/blob/master/project/data_schema_references/\n",
    ". There are two CSVs that provide more details on the fields and some of the mapped values."
   ]
  },
  {
   "cell_type": "markdown",
   "metadata": {},
   "source": [
    "## Project Submission "
   ]
  },
  {
   "cell_type": "markdown",
   "metadata": {},
   "source": [
    "When submitting this project, make sure to run all the cells before saving the notebook. Save the notebook file as \"student_project_submission.ipynb\" and save another copy as an HTML file by clicking \"File\" -> \"Download as..\"->\"html\". Include the \"utils.py\" and \"student_utils.py\" files in your submission. The student_utils.py should be where you put most of your code that you write and the summary and text explanations should be written inline in the notebook. Once you download these files, compress them into one zip file for submission."
   ]
  },
  {
   "cell_type": "markdown",
   "metadata": {},
   "source": [
    "## Prerequisites "
   ]
  },
  {
   "cell_type": "markdown",
   "metadata": {},
   "source": [
    "- Intermediate level knowledge of Python\n",
    "- Basic knowledge of probability and statistics\n",
    "- Basic knowledge of machine learning concepts\n",
    "- Installation of Tensorflow 2.0 and other dependencies(conda environment.yml or virtualenv requirements.txt file provided)"
   ]
  },
  {
   "cell_type": "markdown",
   "metadata": {},
   "source": [
    "## Environment Setup"
   ]
  },
  {
   "cell_type": "markdown",
   "metadata": {},
   "source": [
    "For step by step instructions on creating your environment, please go to https://github.com/udacity/nd320-c1-emr-data-starter/blob/master/project/README.md."
   ]
  },
  {
   "cell_type": "markdown",
   "metadata": {},
   "source": [
    "# 2.  Learning Objectives"
   ]
  },
  {
   "cell_type": "markdown",
   "metadata": {},
   "source": [
    "By the end of the project, you will be able to \n",
    "   - Use the Tensorflow Dataset API to scalably extract, transform, and load datasets and build datasets aggregated at the line, encounter, and patient data levels(longitudinal)\n",
    "   - Analyze EHR datasets to check for common issues (data leakage, statistical properties, missing values, high cardinality) by performing exploratory data analysis.\n",
    "   - Create categorical features from Key Industry Code Sets (ICD, CPT, NDC) and reduce dimensionality for high cardinality features by using embeddings \n",
    "   - Create derived features(bucketing, cross-features, embeddings) utilizing Tensorflow feature columns on both continuous and categorical input features\n",
    "   - SWBAT use the Tensorflow Probability library to train a model that provides uncertainty range predictions that allow for risk adjustment/prioritization and triaging of predictions\n",
    "   - Analyze and determine biases for a model for key demographic groups by evaluating performance metrics across groups by using the Aequitas framework \n"
   ]
  },
  {
   "cell_type": "markdown",
   "metadata": {},
   "source": [
    "# 3. Data Preparation"
   ]
  },
  {
   "cell_type": "code",
   "execution_count": 1,
   "metadata": {},
   "outputs": [],
   "source": [
    "# from __future__ import absolute_import, division, print_function, unicode_literals\n",
    "import os\n",
    "import numpy as np\n",
    "import tensorflow as tf\n",
    "from tensorflow.keras import layers\n",
    "import tensorflow_probability as tfp\n",
    "import matplotlib.pyplot as plt\n",
    "import pandas as pd\n",
    "import sklearn.metrics\n",
    "import aequitas as ae\n",
    "# Put all of the helper functions in utils\n",
    "from utils import build_vocab_files, show_group_stats_viz, aggregate_dataset, preprocess_df, df_to_dataset, posterior_mean_field, prior_trainable\n",
    "pd.set_option('display.max_columns', 500)\n",
    "# this allows you to make changes and save in student_utils.py and the file is reloaded every time you run a code block\n",
    "%load_ext autoreload\n",
    "%autoreload"
   ]
  },
  {
   "cell_type": "code",
   "execution_count": 2,
   "metadata": {},
   "outputs": [],
   "source": [
    "#OPEN ISSUE ON MAC OSX for TF model training\n",
    "import os\n",
    "os.environ['KMP_DUPLICATE_LIB_OK']='True'"
   ]
  },
  {
   "cell_type": "markdown",
   "metadata": {},
   "source": [
    "## Dataset Loading and Schema Review"
   ]
  },
  {
   "cell_type": "markdown",
   "metadata": {},
   "source": [
    "Load the dataset and view a sample of the dataset along with reviewing the schema reference files to gain a deeper understanding of the dataset. The dataset is located at the following path https://github.com/udacity/nd320-c1-emr-data-starter/blob/master/project/starter_code/data/final_project_dataset.csv. Also, review the information found in the data schema https://github.com/udacity/nd320-c1-emr-data-starter/blob/master/project/data_schema_references/"
   ]
  },
  {
   "cell_type": "code",
   "execution_count": 3,
   "metadata": {},
   "outputs": [],
   "source": [
    "dataset_path = \"./data/final_project_dataset.csv\"\n",
    "df = pd.read_csv(dataset_path)"
   ]
  },
  {
   "cell_type": "markdown",
   "metadata": {},
   "source": [
    "## Determine Level of Dataset (Line or Encounter)"
   ]
  },
  {
   "cell_type": "markdown",
   "metadata": {},
   "source": [
    "**Question 1**: Based off of analysis of the data, what level is this dataset? Is it at the line or encounter level? Are there any key fields besides the encounter_id and patient_nbr fields that we should use to aggregate on? Knowing this information will help inform us what level of aggregation is necessary for future steps and is a step that is often overlooked. "
   ]
  },
  {
   "cell_type": "code",
   "execution_count": 4,
   "metadata": {},
   "outputs": [
    {
     "name": "stdout",
     "output_type": "stream",
     "text": [
      "Dataset could be at the line level\n",
      "Dataset is not at the encounter level\n"
     ]
    }
   ],
   "source": [
    "# Line Test\n",
    "try:\n",
    "    assert df.shape[0] > df['encounter_id'].nunique() \n",
    "    print('Dataset could be at the line level')\n",
    "except:\n",
    "    print('Dataset is not at the line level')\n",
    "# Encounter Test\n",
    "try:\n",
    "    assert df.shape == df['encounter_id'].nunique()\n",
    "    print('Dataset could be at the encounter level')\n",
    "except:\n",
    "    print('Dataset is not at the encounter level')"
   ]
  },
  {
   "cell_type": "markdown",
   "metadata": {},
   "source": [
    "Student Response:\n",
    "\n",
    "Dataset is at line level. The main aggregation IDs are encounter_id and patient_nbr."
   ]
  },
  {
   "cell_type": "markdown",
   "metadata": {},
   "source": [
    "## Analyze Dataset"
   ]
  },
  {
   "cell_type": "markdown",
   "metadata": {},
   "source": [
    "**Question 2**: Utilizing the library of your choice (recommend Pandas and Seaborn or matplotlib though), perform exploratory data analysis on the dataset. In particular be sure to address the following questions:  \n",
    "   - a. Field(s) with high amount of missing/zero values\n",
    "   - b. Based off the frequency histogram for each numerical field, which numerical field(s) has/have a Gaussian(normal) distribution shape?\n",
    "   - c. Which field(s) have high cardinality and why (HINT: ndc_code is one feature)\n",
    "   - d. Please describe the demographic distributions in the dataset for the age and gender fields.\n",
    "    \n"
   ]
  },
  {
   "cell_type": "markdown",
   "metadata": {},
   "source": [
    "**OPTIONAL**: Use the Tensorflow Data Validation and Analysis library to complete. \n",
    "- The Tensorflow Data Validation and Analysis library(https://www.tensorflow.org/tfx/data_validation/get_started) is a useful tool for analyzing and summarizing dataset statistics. It is especially useful because it can scale to large datasets that do not fit into memory. \n",
    "- Note that there are some bugs that are still being resolved with Chrome v80 and we have moved away from using this for the project. "
   ]
  },
  {
   "cell_type": "code",
   "execution_count": 5,
   "metadata": {},
   "outputs": [
    {
     "name": "stdout",
     "output_type": "stream",
     "text": [
      "a.) Relative number of missing values:\n"
     ]
    },
    {
     "data": {
      "text/plain": [
       "weight                    0.970005\n",
       "medical_specialty         0.484319\n",
       "payer_code                0.377831\n",
       "ndc_code                  0.163585\n",
       "race                      0.023071\n",
       "primary_diagnosis_code    0.000230\n",
       "dtype: float64"
      ]
     },
     "execution_count": 5,
     "metadata": {},
     "output_type": "execute_result"
    }
   ],
   "source": [
    "ser_null = df.replace(to_replace='?', value=np.nan).isnull().sum()\n",
    "print('a.) Relative number of missing values:')\n",
    "ser_null[ser_null > 0].sort_values(ascending=False) / df.shape[0]"
   ]
  },
  {
   "cell_type": "code",
   "execution_count": 6,
   "metadata": {},
   "outputs": [
    {
     "name": "stdout",
     "output_type": "stream",
     "text": [
      "a.) Total number of missing values:\n"
     ]
    },
    {
     "data": {
      "text/plain": [
       "weight                    139122\n",
       "medical_specialty          69463\n",
       "payer_code                 54190\n",
       "ndc_code                   23462\n",
       "race                        3309\n",
       "primary_diagnosis_code        33\n",
       "dtype: int64"
      ]
     },
     "execution_count": 6,
     "metadata": {},
     "output_type": "execute_result"
    }
   ],
   "source": [
    "print('a.) Total number of missing values:')\n",
    "ser_null[ser_null > 0].sort_values(ascending=False)"
   ]
  },
  {
   "cell_type": "code",
   "execution_count": 7,
   "metadata": {},
   "outputs": [
    {
     "name": "stdout",
     "output_type": "stream",
     "text": [
      "b.) Numerical fields analysis:\n"
     ]
    },
    {
     "data": {
      "image/png": "[encoded data removed]",
      "text/plain": [
       "<Figure size 864x2880 with 8 Axes>"
      ]
     },
     "metadata": {
      "needs_background": "light"
     },
     "output_type": "display_data"
    }
   ],
   "source": [
    "print('b.) Numerical fields analysis:')\n",
    "\n",
    "cols_numerical = [\n",
    "    'time_in_hospital', 'number_outpatient', 'number_inpatient',\n",
    "    'number_emergency', 'num_lab_procedures', 'number_diagnoses',\n",
    "    'num_medications', 'num_procedures'\n",
    "]\n",
    "\n",
    "fig, ax = plt.subplots(len(cols_numerical), figsize=(12, 5*len(cols_numerical)))\n",
    "\n",
    "i = 0\n",
    "col = 'time_in_hospital'\n",
    "ttl = f'Distribution of hospitalization duration (days between admission and discharge)'\n",
    "df[col].plot.hist(ax=ax[i], title=ttl, bins=13)\n",
    "ax[i].set_xlabel(col)\n",
    "ax[i].set_ylabel('frequency')\n",
    "\n",
    "i = 1\n",
    "col = 'number_outpatient'\n",
    "ttl = f'Distribution of number of outpatient visits of the patient in the year preceding the encounter'\n",
    "df[col].plot.hist(ax=ax[i], title=ttl, bins=20, logy=True)\n",
    "ax[i].set_xlabel(col)\n",
    "ax[i].set_ylabel('frequency')\n",
    "\n",
    "i = 2\n",
    "col = 'number_inpatient'\n",
    "ttl = f'Distribution of number of inpatient visits of the patient in the year preceding the encounter'\n",
    "df[col].plot.hist(ax=ax[i], title=ttl, bins=14, logy=True)\n",
    "ax[i].set_xlabel(col)\n",
    "ax[i].set_ylabel('frequency')\n",
    "\n",
    "i = 3\n",
    "col = 'number_emergency'\n",
    "ttl = f'Distribution of number of emergency visits of the patient in the year preceding the encounter'\n",
    "df[col].plot.hist(ax=ax[i], title=ttl, bins=14, logy=True)\n",
    "ax[i].set_xlabel(col)\n",
    "ax[i].set_ylabel('frequency')\n",
    "\n",
    "i = 4\n",
    "col = 'num_lab_procedures'\n",
    "ttl = f'Distribution of number of lab tests performed during the encounter'\n",
    "df[col].plot.hist(ax=ax[i], title=ttl, bins=20)\n",
    "ax[i].set_xlabel(col)\n",
    "ax[i].set_ylabel('frequency')\n",
    "\n",
    "i = 5\n",
    "col = 'number_diagnoses'\n",
    "ttl = f'Distribution of number of diagnoses entered to the system'\n",
    "df[col].plot.hist(ax=ax[i], title=ttl, bins=15)\n",
    "ax[i].set_xlabel(col)\n",
    "ax[i].set_ylabel('frequency')\n",
    "\n",
    "i = 6\n",
    "col = 'num_medications'\n",
    "ttl = f'Distribution of number of distinct generic drug names administered during the encounter'\n",
    "df[col].plot.hist(ax=ax[i], title=ttl, bins=20)\n",
    "ax[i].set_xlabel(col)\n",
    "ax[i].set_ylabel('frequency')\n",
    "\n",
    "i = 7\n",
    "col = 'num_procedures'\n",
    "ttl = f'Distribution of number of procedures (other than lab tests) performed during the encounter'\n",
    "df[col].plot.hist(ax=ax[i], title=ttl, bins=6)\n",
    "ax[i].set_xlabel(col)\n",
    "ax[i].set_ylabel('frequency')\n",
    "\n",
    "plt.tight_layout()"
   ]
  },
  {
   "cell_type": "code",
   "execution_count": 8,
   "metadata": {},
   "outputs": [
    {
     "name": "stdout",
     "output_type": "stream",
     "text": [
      "c.) high cardinality analysis:\n"
     ]
    },
    {
     "data": {
      "text/plain": [
       "encounter_id                101766\n",
       "patient_nbr                  71518\n",
       "other_diagnosis_codes        19374\n",
       "primary_diagnosis_code         717\n",
       "ndc_code                       251\n",
       "num_lab_procedures             118\n",
       "num_medications                 75\n",
       "medical_specialty               73\n",
       "number_outpatient               39\n",
       "number_emergency                33\n",
       "discharge_disposition_id        26\n",
       "number_inpatient                21\n",
       "dtype: int64"
      ]
     },
     "execution_count": 8,
     "metadata": {},
     "output_type": "execute_result"
    }
   ],
   "source": [
    "print('c.) high cardinality analysis:')\n",
    "ser_nunique = df.nunique()\n",
    "ser_nunique[ser_nunique>20].sort_values(ascending=False)"
   ]
  },
  {
   "cell_type": "code",
   "execution_count": 9,
   "metadata": {},
   "outputs": [
    {
     "name": "stdout",
     "output_type": "stream",
     "text": [
      "d.) Demographic distribution analysis:\n"
     ]
    },
    {
     "data": {
      "image/png": "[encoded data removed]",
      "text/plain": [
       "<Figure size 864x1080 with 3 Axes>"
      ]
     },
     "metadata": {
      "needs_background": "light"
     },
     "output_type": "display_data"
    }
   ],
   "source": [
    "print('d.) Demographic distribution analysis:')\n",
    "fig, ax = plt.subplots(3, figsize=(12, 15))\n",
    "\n",
    "ttl = 'Age distribution'\n",
    "df['age'].value_counts().sort_index().plot.bar(rot=0, ax=ax[0], title=ttl)\n",
    "ax[0].set_xlabel('age')\n",
    "ax[0].set_ylabel('frequency')\n",
    "\n",
    "ttl = 'Gender distribution'\n",
    "df['gender'].value_counts().sort_index().plot.bar(rot=0, ax=ax[1], title=ttl)\n",
    "ax[1].set_xlabel('gender')\n",
    "ax[1].set_ylabel('frequency')\n",
    "\n",
    "ttl = 'Age and gender distribution'\n",
    "df.groupby('age')['gender'].value_counts().sort_index().unstack().plot.bar(ax=ax[2], rot=0, title=ttl)\n",
    "ax[2].set_xlabel('age')\n",
    "ax[2].set_ylabel('frequency')\n",
    "\n",
    "plt.tight_layout()"
   ]
  },
  {
   "cell_type": "code",
   "execution_count": 10,
   "metadata": {},
   "outputs": [
    {
     "name": "stdout",
     "output_type": "stream",
     "text": [
      "d.) relative gender distribution:\n"
     ]
    },
    {
     "data": {
      "text/plain": [
       "Female             0.531187\n",
       "Male               0.468778\n",
       "Unknown/Invalid    0.000035\n",
       "Name: gender, dtype: float64"
      ]
     },
     "execution_count": 10,
     "metadata": {},
     "output_type": "execute_result"
    }
   ],
   "source": [
    "print('d.) relative gender distribution:')\n",
    "df['gender'].value_counts() / df.shape[0]"
   ]
  },
  {
   "cell_type": "markdown",
   "metadata": {},
   "source": [
    "**Student Response**:\n",
    "\n",
    "    - a. Fields with high missing values: weight, payer_code, medical_speciality and (maybe) ndc_code (16% missing values)\n",
    "    - b. The numerical fields with (skewed) Gaussian distribution shapes are: time_in_hospital, num_lab_procedures, num_medications\n",
    "    - c. Fields with high cardinality are \n",
    "        - encounter_id: many encounters\n",
    "        - patient_nbr: many patients\n",
    "        - other_diagnosis_codes, primary_diagnosis_code, ndc_code: huge code database (high cardinality)\n",
    "        - the other listed high cardinalities above are either numeric or have a lot different categories, too\n",
    "    - d. The demographic distributions of the dataset looks like this:\n",
    "        - the vast majority of patients are between age 50 - 90 with mode 70 - 80\n",
    "        - 53% are female 47% are male\n",
    "        - each age range has about similar cardinality of males/females. The older the patient, the more females are there."
   ]
  },
  {
   "cell_type": "code",
   "execution_count": 11,
   "metadata": {},
   "outputs": [
    {
     "name": "stdout",
     "output_type": "stream",
     "text": [
      "d.) Demographic distribution analysis:\n"
     ]
    },
    {
     "data": {
      "image/png": "[encoded data removed]",
      "text/plain": [
       "<Figure size 864x1080 with 3 Axes>"
      ]
     },
     "metadata": {
      "needs_background": "light"
     },
     "output_type": "display_data"
    }
   ],
   "source": [
    "print('d.) Demographic distribution analysis:')\n",
    "fig, ax = plt.subplots(3, figsize=(12, 15))\n",
    "\n",
    "ttl = 'Race distribution'\n",
    "df['race'].value_counts().sort_index().plot.bar(rot=0, ax=ax[0], title=ttl)\n",
    "ax[0].set_xlabel('race')\n",
    "ax[0].set_ylabel('frequency')\n",
    "\n",
    "ttl = 'Gender and race distribution'\n",
    "df.groupby('gender')['race'].value_counts().sort_index().unstack().plot.bar(ax=ax[1], rot=0, title=ttl)\n",
    "ax[1].set_xlabel('gender')\n",
    "ax[1].set_ylabel('frequency')\n",
    "\n",
    "ttl = 'Age and race distribution'\n",
    "df.groupby('age')['race'].value_counts().sort_index().unstack().plot.bar(ax=ax[2], rot=0, title=ttl)\n",
    "ax[2].set_xlabel('age')\n",
    "ax[2].set_ylabel('frequency')\n",
    "\n",
    "plt.tight_layout()"
   ]
  },
  {
   "cell_type": "code",
   "execution_count": 12,
   "metadata": {},
   "outputs": [],
   "source": [
    "######NOTE: The visualization will only display in Chrome browser. ########\n",
    "# full_data_stats = tfdv.generate_statistics_from_csv(data_location='./data/final_project_dataset.csv') \n",
    "# tfdv.visualize_statistics(full_data_stats)"
   ]
  },
  {
   "cell_type": "markdown",
   "metadata": {},
   "source": [
    "## Reduce Dimensionality of the NDC Code Feature"
   ]
  },
  {
   "cell_type": "markdown",
   "metadata": {},
   "source": [
    "**Question 3**: NDC codes are a common format to represent the wide variety of drugs that are prescribed for patient care in the United States. The challenge is that there are many codes that map to the same or similar drug. You are provided with the ndc drug lookup file https://github.com/udacity/nd320-c1-emr-data-starter/blob/master/project/data_schema_references/ndc_lookup_table.csv derived from the National Drug Codes List site(https://ndclist.com/). Please use this file to come up with a way to reduce the dimensionality of this field and create a new field in the dataset called \"generic_drug_name\" in the output dataframe. "
   ]
  },
  {
   "cell_type": "code",
   "execution_count": 13,
   "metadata": {},
   "outputs": [],
   "source": [
    "#NDC code lookup file\n",
    "ndc_code_path = \"./medication_lookup_tables/final_ndc_lookup_table\"\n",
    "ndc_code_df = pd.read_csv(ndc_code_path)"
   ]
  },
  {
   "cell_type": "code",
   "execution_count": 14,
   "metadata": {},
   "outputs": [],
   "source": [
    "from student_utils import reduce_dimension_ndc\n",
    "reduce_dim_df = reduce_dimension_ndc(df, ndc_code_df)\n",
    "# Number of unique values should be less for the new output field\n",
    "assert df['ndc_code'].nunique() > reduce_dim_df['generic_drug_name'].nunique()"
   ]
  },
  {
   "cell_type": "code",
   "execution_count": 15,
   "metadata": {},
   "outputs": [
    {
     "name": "stdout",
     "output_type": "stream",
     "text": [
      "We were able to reduce the dimension in the ndc_code field from 252 to 23 (including nan's).\n"
     ]
    }
   ],
   "source": [
    "print(\"We were able to reduce the dimension in the ndc_code \" +\n",
    "      f\"field from {df['ndc_code'].nunique(dropna=False)} to \" +\n",
    "      f\"{reduce_dim_df['generic_drug_name'].nunique(dropna=False)} \" +\n",
    "      \"(including nan's).\")"
   ]
  },
  {
   "cell_type": "markdown",
   "metadata": {},
   "source": [
    "## Select First Encounter for each Patient "
   ]
  },
  {
   "cell_type": "markdown",
   "metadata": {},
   "source": [
    "**Question 4**: In order to simplify the aggregation of data for the model, we will only select the first encounter for each patient in the dataset. This is to reduce the risk of data leakage of future patient encounters and to reduce complexity of the data transformation and modeling steps. We will assume that sorting in numerical order on the encounter_id provides the time horizon for determining which encounters come before and after another."
   ]
  },
  {
   "cell_type": "code",
   "execution_count": 16,
   "metadata": {},
   "outputs": [],
   "source": [
    "from student_utils import select_first_encounter\n",
    "first_encounter_df = select_first_encounter(reduce_dim_df)"
   ]
  },
  {
   "cell_type": "code",
   "execution_count": 17,
   "metadata": {},
   "outputs": [
    {
     "name": "stdout",
     "output_type": "stream",
     "text": [
      "Number of unique patients:71518\n",
      "Number of unique encounters:71518\n",
      "Tests passed!!\n"
     ]
    }
   ],
   "source": [
    "# unique patients in transformed dataset\n",
    "unique_patients = first_encounter_df['patient_nbr'].nunique()\n",
    "print(\"Number of unique patients:{}\".format(unique_patients))\n",
    "\n",
    "# unique encounters in transformed dataset\n",
    "unique_encounters = first_encounter_df['encounter_id'].nunique()\n",
    "print(\"Number of unique encounters:{}\".format(unique_encounters))\n",
    "\n",
    "original_unique_patient_number = reduce_dim_df['patient_nbr'].nunique()\n",
    "# number of unique patients should be equal to the number of unique encounters and patients in the final dataset\n",
    "assert original_unique_patient_number == unique_patients\n",
    "assert original_unique_patient_number == unique_encounters\n",
    "print(\"Tests passed!!\")"
   ]
  },
  {
   "cell_type": "markdown",
   "metadata": {},
   "source": [
    "## Aggregate Dataset to Right Level for Modeling "
   ]
  },
  {
   "cell_type": "markdown",
   "metadata": {},
   "source": [
    "In order to provide a broad scope of the steps and to prevent students from getting stuck with data transformations, we have selected the aggregation columns and provided a function to build the dataset at the appropriate level. The 'aggregate_dataset\" function that you can find in the 'utils.py' file can take the preceding dataframe with the 'generic_drug_name' field and transform the data appropriately for the project. \n",
    "\n",
    "To make it simpler for students, we are creating dummy columns for each unique generic drug name and adding those as input features to the model. There are other options for data representation but this is out of scope for the time constraints of the course."
   ]
  },
  {
   "cell_type": "code",
   "execution_count": 18,
   "metadata": {},
   "outputs": [],
   "source": [
    "exclusion_list = ['generic_drug_name']\n",
    "grouping_field_list = [c for c in first_encounter_df.columns if c not in exclusion_list]\n",
    "agg_drug_df, ndc_col_list = aggregate_dataset(\n",
    "    df=first_encounter_df,\n",
    "    grouping_field_list=grouping_field_list,\n",
    "    array_field='generic_drug_name'\n",
    ")\n",
    "assert len(agg_drug_df) == agg_drug_df['patient_nbr'].nunique() == agg_drug_df['encounter_id'].nunique()"
   ]
  },
  {
   "cell_type": "code",
   "execution_count": 19,
   "metadata": {},
   "outputs": [],
   "source": [
    "## we fill missing values of the new OHE ndc code fields, because it makes no sense to leave them as nan values\n",
    "## nan values only mean the absence of the considered medication\n",
    "agg_drug_df[ndc_col_list] = agg_drug_df[ndc_col_list].fillna(0)"
   ]
  },
  {
   "cell_type": "code",
   "execution_count": 20,
   "metadata": {},
   "outputs": [
    {
     "name": "stdout",
     "output_type": "stream",
     "text": [
      "drop these generic drug name columns with frequency/occurances < 10: \n",
      "\tGlipizide_And_Metformin_Hcl (1.0), Glipizide_And_Metformin_Hydrochloride (6.0), Pioglitazole_And_Metformin_Hydrochloride (1.0)\n"
     ]
    }
   ],
   "source": [
    "thresh = 10\n",
    "val_count_ndc = agg_drug_df[ndc_col_list].sum()\n",
    "print(f\"drop these generic drug name columns with frequency/occurances < {thresh}: \\n\\t{', '.join([f'{idx} ({val})' for idx, val in val_count_ndc[val_count_ndc<=thresh].items()])}\")\n",
    "agg_drug_df = agg_drug_df.drop(val_count_ndc[val_count_ndc<thresh].index, axis=1)\n",
    "## update ndc codel list\n",
    "ndc_col_list = [i for i in ndc_col_list if i not in val_count_ndc[val_count_ndc<thresh].index]"
   ]
  },
  {
   "cell_type": "markdown",
   "metadata": {},
   "source": [
    "## Prepare Fields and Cast Dataset "
   ]
  },
  {
   "cell_type": "markdown",
   "metadata": {},
   "source": [
    "### Feature Selection"
   ]
  },
  {
   "cell_type": "markdown",
   "metadata": {},
   "source": [
    "**Question 5**: After you have aggregated the dataset to the right level, we can do feature selection (we will include the ndc_col_list, dummy column features too). In the block below, please select the categorical and numerical features that you will use for the model, so that we can create a dataset subset. \n",
    "\n",
    "For the payer_code and weight fields, please provide whether you think we should include/exclude the field in our model and give a justification/rationale for this based off of the statistics of the data. Feel free to use visualizations or summary statistics to support your choice."
   ]
  },
  {
   "cell_type": "markdown",
   "metadata": {},
   "source": [
    "Student response:\n",
    "excluded fields:\n",
    "\n",
    "    - we exclude the weight field due to 97% missing values \n",
    "    - we exclude payer_code (38% missing values). payer_code is not relevant for predicting the hospitalization duration since it only describes the payment method\n",
    "    - we exclude the discharge_disposition_id since this information is not available for new arrival patients.\n",
    "    - we exclude other_diagnosis_codes because it has very high cardinality with a lot of unique values that occure only once or a few times\n",
    "\n",
    "included fields: \n",
    "\n",
    "    - medical_speciality has a high missing rate (48%) but we keep it, because it makes sense to replace the missing value with a placeholder. This placeholder might represent cases where it is not relevant to indicate the admitting physician.\n",
    "\n",
    "we also delete some entries which frequencies are too low. See below (processed_df)"
   ]
  },
  {
   "cell_type": "code",
   "execution_count": 21,
   "metadata": {},
   "outputs": [],
   "source": [
    "'''\n",
    "Please update the list to include the features you think are appropriate for the model \n",
    "and the field that we will be using to train the model. There are three required demographic features for the model \n",
    "and I have inserted a list with them already in the categorical list. \n",
    "These will be required for later steps when analyzing data splits and model biases.\n",
    "'''\n",
    "required_demo_col_list = ['race', 'gender', 'age']\n",
    "student_categorical_col_list = [\n",
    "    'admission_type_id', 'admission_source_id', 'medical_specialty',\n",
    "    'primary_diagnosis_code', 'max_glu_serum',\n",
    "    'A1Cresult', 'change', 'readmitted'\n",
    "] + required_demo_col_list + ndc_col_list\n",
    "student_numerical_col_list = [\n",
    "    'number_outpatient', 'number_inpatient', 'number_emergency',\n",
    "    'num_lab_procedures', 'number_diagnoses', 'num_medications',\n",
    "    'num_procedures'\n",
    "]\n",
    "PREDICTOR_FIELD = 'time_in_hospital'"
   ]
  },
  {
   "cell_type": "code",
   "execution_count": 22,
   "metadata": {},
   "outputs": [],
   "source": [
    "def select_model_features(df, categorical_col_list, numerical_col_list, PREDICTOR_FIELD, grouping_key='patient_nbr'):\n",
    "    selected_col_list = [grouping_key] + [PREDICTOR_FIELD] + categorical_col_list + numerical_col_list   \n",
    "    return agg_drug_df[selected_col_list]"
   ]
  },
  {
   "cell_type": "code",
   "execution_count": 23,
   "metadata": {},
   "outputs": [],
   "source": [
    "selected_features_df = select_model_features(\n",
    "    df=agg_drug_df,\n",
    "    categorical_col_list=student_categorical_col_list,\n",
    "    numerical_col_list=student_numerical_col_list,\n",
    "    PREDICTOR_FIELD=PREDICTOR_FIELD,\n",
    "    grouping_key='patient_nbr'\n",
    ")"
   ]
  },
  {
   "cell_type": "markdown",
   "metadata": {},
   "source": [
    "### Preprocess Dataset - Casting and Imputing  "
   ]
  },
  {
   "cell_type": "markdown",
   "metadata": {},
   "source": [
    "We will cast and impute the dataset before splitting so that we do not have to repeat these steps across the splits in the next step. For imputing, there can be deeper analysis into which features to impute and how to impute but for the sake of time, we are taking a general strategy of imputing zero for only numerical features. \n",
    "\n",
    "OPTIONAL: What are some potential issues with this approach? Can you recommend a better way and also implement it?"
   ]
  },
  {
   "cell_type": "code",
   "execution_count": 24,
   "metadata": {},
   "outputs": [
    {
     "name": "stderr",
     "output_type": "stream",
     "text": [
      "/mnt/pool1/workspace/ml/nd320-c1-emr-data-starter/6final_project/starter_code/utils.py:31: SettingWithCopyWarning: \n",
      "A value is trying to be set on a copy of a slice from a DataFrame.\n",
      "Try using .loc[row_indexer,col_indexer] = value instead\n",
      "\n",
      "See the caveats in the documentation: https://pandas.pydata.org/pandas-docs/stable/user_guide/indexing.html#returning-a-view-versus-a-copy\n",
      "  df[predictor] = df[predictor].astype(float)\n",
      "/mnt/pool1/workspace/ml/nd320-c1-emr-data-starter/6final_project/starter_code/utils.py:33: SettingWithCopyWarning: \n",
      "A value is trying to be set on a copy of a slice from a DataFrame.\n",
      "Try using .loc[row_indexer,col_indexer] = value instead\n",
      "\n",
      "See the caveats in the documentation: https://pandas.pydata.org/pandas-docs/stable/user_guide/indexing.html#returning-a-view-versus-a-copy\n",
      "  df[c] = cast_df(df, c, d_type=str)\n",
      "/mnt/pool1/workspace/ml/nd320-c1-emr-data-starter/6final_project/starter_code/utils.py:35: SettingWithCopyWarning: \n",
      "A value is trying to be set on a copy of a slice from a DataFrame.\n",
      "Try using .loc[row_indexer,col_indexer] = value instead\n",
      "\n",
      "See the caveats in the documentation: https://pandas.pydata.org/pandas-docs/stable/user_guide/indexing.html#returning-a-view-versus-a-copy\n",
      "  df[numerical_column] = impute_df(df, numerical_column, numerical_impute_value)\n"
     ]
    }
   ],
   "source": [
    "processed_df = preprocess_df(\n",
    "    selected_features_df,\n",
    "    student_categorical_col_list, \n",
    "    student_numerical_col_list,\n",
    "    PREDICTOR_FIELD,\n",
    "    categorical_impute_value='nan',\n",
    "    numerical_impute_value=0\n",
    ")"
   ]
  },
  {
   "cell_type": "code",
   "execution_count": 25,
   "metadata": {},
   "outputs": [
    {
     "name": "stdout",
     "output_type": "stream",
     "text": [
      "delete all gender entries (rows) that have a frequency <= 10: Unknown/Invalid (3)\n",
      "consider all admission_type_id's with frequency <= 10 as invalid and assign them to id 8 (Not Mapped): 4 (9)\n",
      "consider all admission_source_id's with frequency <= 10 as invalid and assign them to id 20 (Not Mapped): 10 (7), 22 (4), 14 (2), 25 (2), 11 (1), 13 (1)\n",
      "consider all medical_specialty entries with frequency <= 10 as invalid and assign them to id ? (missing value placeholder):\n",
      "\tSurgery-Maxillofacial (10), Rheumatology (10), Surgery-Colon&Rectal (9), OutreachServices (9), PhysicianNotFound (8), Cardiology-Pediatric (7), Pediatrics-Neurology (7), Anesthesiology (7), Pathology (7), Endocrinology-Metabolism (7), Pediatrics-Pulmonology (6), Surgery-Pediatric (6), Psychiatry-Child/Adolescent (6), AllergyandImmunology (6), Dentistry (4), DCPTEAM (4), Pediatrics-EmergencyMedicine (3), Pediatrics-Hematology-Oncology (3), Neurophysiology (1), Surgery-PlasticwithinHeadandNeck (1), Perinatology (1), Resident (1), Proctology (1), Psychiatry-Addictive (1), Dermatology (1), SportsMedicine (1), Speech (1)\n",
      "consider all primary_diagnosis_code entries with frequency <= 10 as invalid and assign them to id ? (missing value placeholder):\n",
      "\t867 (10), 263 (10), 652 (10), 376 (10), 989 (10), 338 (10), 513 (10), 736 (10), 250.31 (10), 861 (10), 323 (10), 977 (10), 184 (10), 966 (9), 967 (9), 394 (9), 810 (9), 565 (9), 171 (9), 646 (9), 230 (9), 882 (9), 312 (9), 152 (9), 35 (9), 935 (9), 992 (8), 350 (8), 865 (8), 117 (8), V71 (8), 970 (8), 891 (8), 11 (8), 864 (8), 521 (8), 454 (8), 158 (8), 695 (8), 737 (8), 5 (8), 250.21 (7), 464 (7), 88 (7), 816 (7), 335 (7), 337 (7), 847 (7), 383 (7), 212 (7), 588 (7), 725 (7), 210 (7), 78 (7), 359 (7), V63 (7), 845 (7), 708 (7), 362 (7), 746 (7), 306 (6), 541 (6), 237 (6), 964 (6), 579 (6), 320 (6), 82 (6), 883 (6), 214 (6), 526 (6), 843 (6), 457 (6), 952 (6), 223 (6), 800 (6), 354 (6), 353 (6), 66 (6), 686 (6), 892 (6), 201 (6), 663 (6), 180 (6), 694 (6), 163 (6), 641 (6), 890 (5), 250.9 (5), 344 (5), 815 (5), 445 (5), 692 (5), 968 (5), 215 (5), 463 (5), 835 (5), 395 (5), 705 (5), 717 (5), V45 (5), 751 (5), 622 (5), 342 (5), 685 (5), 41 (5), 551 (5), 991 (5), 655 (5), 881 (5), 49 (5), 854 (5), 814 (5), 759 (5), 228 (5), 141 (5), 893 (5), 361 (5), 273 (5), 647 (4), 34 (4), 474 (4), 397 (4), 886 (4), 175 (4), 470 (4), 250.5 (4), 792 (4), 806 (4), 301 (4), 452 (4), 734 (4), 793 (4), 272 (4), 796 (4), 747 (4), 831 (4), 633 (4), 745 (4), 379 (4), 495 (4), 208 (4), 836 (4), 341 (4), 863 (4), 598 (4), 142 (4), 388 (4), 94 (4), 136 (4), 570 (4), 172 (3), 179 (3), 524 (3), 987 (3), 921 (3), 879 (3), 942 (3), 602 (3), 529 (3), 797 (3), 266 (3), 508 (3), 250.52 (3), 261 (3), 405 (3), 164 (3), 803 (3), 619 (3), 382 (3), 665 (3), 603 (3), 483 (3), 846 (3), 986 (3), 245 (3), 374 (3), 916 (3), 928 (3), 709 (3), 192 (3), 356 (3), 866 (3), 240 (3), 795 (3), 370 (3), 868 (2), V26 (2), 384 (2), 170 (2), 875 (2), 322 (2), 48 (2), 250.91 (2), 31 (2), 542 (2), 753 (2), 110 (2), 187 (2), 610 (2), 871 (2), 934 (2), 913 (2), 862 (2), 643 (2), 417 (2), 369 (2), 696 (2), 194 (2), 308 (2), 936 (2), 706 (2), 645 (2), 250.53 (2), 732 (2), 582 (2), 914 (2), 422 (2), 897 (2), 735 (2), 352 (2), 963 (2), 39 (2), 385 (2), 146 (2), 941 (2), 7 (2), 336 (2), 236 (2), 360 (2), 115 (2), 324 (2), 501 (2), 990 (2), 147 (2), 657 (2), 880 (2), 36 (2), 149 (2), 195 (2), 983 (2), 173 (2), 377 (2), 683 (2), 623 (2), 246 (2), 583 (2), 632 (2), 669 (1), 217 (1), 318 (1), 826 (1), 640 (1), 704 (1), 671 (1), 817 (1), 365 (1), 52 (1), 903 (1), E909 (1), 27 (1), 684 (1), 207 (1), 325 (1), 904 (1), 314 (1), 580 (1), 839 (1), 994 (1), 837 (1), 219 (1), 870 (1), 366 (1), V25 (1), 975 (1), 906 (1), 838 (1), V51 (1), 833 (1), 262 (1), 700 (1), V67 (1), 347 (1), 250.51 (1), 634 (1), 148 (1), 980 (1), 917 (1), 804 (1), 133 (1), 842 (1), 939 (1), V66 (1), 363 (1), 923 (1), 75 (1), 885 (1), 84 (1), 381 (1), 944 (1), 615 (1), 391 (1), 98 (1), 848 (1), 691 (1), 57 (1), 160 (1), 653 (1), 720 (1), V70 (1), 143 (1), 649 (1), 690 (1), 915 (1), 605 (1), 477 (1), 145 (1), 955 (1), 791 (1), 61 (1), 114 (1), V43 (1), 911 (1), 957 (1), 674 (1), 412 (1), 334 (1), 131 (1), 229 (1), 878 (1), 10 (1), 982 (1), 448 (1), 299 (1), 216 (1), 637 (1), 971 (1), 471 (1), 500 (1), 832 (1), 375 (1), 834 (1), 976 (1), V60 (1), 703 (1)\n"
     ]
    },
    {
     "name": "stderr",
     "output_type": "stream",
     "text": [
      "/home/ud/miniconda3/envs/py38ml/lib/python3.8/site-packages/pandas/core/indexing.py:966: SettingWithCopyWarning: \n",
      "A value is trying to be set on a copy of a slice from a DataFrame.\n",
      "Try using .loc[row_indexer,col_indexer] = value instead\n",
      "\n",
      "See the caveats in the documentation: https://pandas.pydata.org/pandas-docs/stable/user_guide/indexing.html#returning-a-view-versus-a-copy\n",
      "  self.obj[item] = s\n"
     ]
    }
   ],
   "source": [
    "# delete rows with gender != {male, female}\n",
    "thresh = 10\n",
    "val_count_gender = processed_df['gender'].value_counts(dropna=False)\n",
    "print(f\"delete all gender entries (rows) that have a frequency <= {thresh}: \" +\n",
    "      f\"{', '.join([f'{idx} ({val})' for idx, val in val_count_gender[val_count_gender<=thresh].items()])}\")\n",
    "processed_df = processed_df[processed_df['gender'].isin(val_count_gender[val_count_gender>thresh].index)]\n",
    "\n",
    "## reassign ids of admission_type_id column that have too low number of entries:\n",
    "val_count_atype = processed_df['admission_type_id'].value_counts(dropna=False)\n",
    "print(f\"consider all admission_type_id's with frequency <= {thresh} as invalid and assign them to id 8 (Not Mapped): \" +\n",
    "      f\"{', '.join([f'{idx} ({val})' for idx, val in val_count_atype[val_count_atype<=thresh].items()])}\")\n",
    "processed_df.loc[processed_df['admission_type_id'].isin(val_count_atype[val_count_atype<=thresh].index), 'admission_type_id'] = '8'\n",
    "\n",
    "## reassign ids of admission_source_id column that have too low number of entries:\n",
    "val_count_asource = processed_df['admission_source_id'].value_counts(dropna=False)\n",
    "print(f\"consider all admission_source_id's with frequency <= {thresh} as invalid and assign them to id 20 (Not Mapped): \" +\n",
    "      f\"{', '.join([f'{idx} ({val})' for idx, val in val_count_asource[val_count_asource<=thresh].items()])}\")\n",
    "processed_df.loc[processed_df['admission_source_id'].isin(val_count_asource[val_count_asource<=thresh].index), 'admission_source_id'] = '20'\n",
    "\n",
    "val_count_medspecialty = processed_df['medical_specialty'].value_counts(dropna=False)\n",
    "print(f\"consider all medical_specialty entries with frequency <= {thresh} as invalid and assign them to id ? (missing value placeholder):\\n\\t\" +\n",
    "      f\"{', '.join([f'{idx} ({val})' for idx, val in val_count_medspecialty[val_count_medspecialty<=thresh].items()])}\")\n",
    "processed_df.loc[processed_df['medical_specialty'].isin(val_count_medspecialty[val_count_medspecialty<=thresh].index), 'medical_specialty'] = '?'\n",
    "\n",
    "val_count_pdiagcode = processed_df['primary_diagnosis_code'].value_counts(dropna=False)\n",
    "print(f\"consider all primary_diagnosis_code entries with frequency <= {thresh} as invalid and assign them to id ? (missing value placeholder):\\n\\t\" +\n",
    "      f\"{', '.join([f'{idx} ({val})' for idx, val in val_count_pdiagcode[val_count_pdiagcode<=thresh].items()])}\")\n",
    "processed_df.loc[processed_df['primary_diagnosis_code'].isin(val_count_pdiagcode[val_count_pdiagcode<=thresh].index), 'primary_diagnosis_code'] = '?'"
   ]
  },
  {
   "cell_type": "code",
   "execution_count": 26,
   "metadata": {},
   "outputs": [
    {
     "data": {
      "text/plain": [
       "Caucasian          53491\n",
       "AfricanAmerican    12887\n",
       "?                   1946\n",
       "Hispanic            1517\n",
       "Other               1177\n",
       "Asian                497\n",
       "Name: race, dtype: int64"
      ]
     },
     "execution_count": 26,
     "metadata": {},
     "output_type": "execute_result"
    }
   ],
   "source": [
    "processed_df['race'].value_counts(dropna=False)"
   ]
  },
  {
   "cell_type": "code",
   "execution_count": 27,
   "metadata": {},
   "outputs": [],
   "source": [
    "from sklearn.preprocessing import StandardScaler\n",
    "scale = StandardScaler()\n",
    "processed_df[student_numerical_col_list] = scale.fit_transform(processed_df[student_numerical_col_list])"
   ]
  },
  {
   "cell_type": "markdown",
   "metadata": {},
   "source": [
    "## Split Dataset into Train, Validation, and Test Partitions"
   ]
  },
  {
   "cell_type": "markdown",
   "metadata": {},
   "source": [
    "**Question 6**: In order to prepare the data for being trained and evaluated by a deep learning model, we will split the dataset into three partitions, with the validation partition used for optimizing the model hyperparameters during training. One of the key parts is that we need to be sure that the data does not accidently leak across partitions.\n",
    "\n",
    "Please complete the function below to split the input dataset into three partitions(train, validation, test) with the following requirements.\n",
    "- Approximately 60%/20%/20%  train/validation/test split\n",
    "- Randomly sample different patients into each data partition\n",
    "- **IMPORTANT** Make sure that a patient's data is not in more than one partition, so that we can avoid possible data leakage.\n",
    "- Make sure that the total number of unique patients across the splits is equal to the total number of unique patients in the original dataset\n",
    "- Total number of rows in original dataset = sum of rows across all three dataset partitions"
   ]
  },
  {
   "cell_type": "code",
   "execution_count": 28,
   "metadata": {},
   "outputs": [],
   "source": [
    "from student_utils import patient_dataset_splitter\n",
    "d_train, d_val, d_test = patient_dataset_splitter(df=processed_df, patient_key='patient_nbr')"
   ]
  },
  {
   "cell_type": "code",
   "execution_count": 29,
   "metadata": {},
   "outputs": [
    {
     "name": "stdout",
     "output_type": "stream",
     "text": [
      "Test passed for number of total rows equal!\n"
     ]
    }
   ],
   "source": [
    "assert len(d_train) + len(d_val) + len(d_test) == len(processed_df)\n",
    "print(\"Test passed for number of total rows equal!\")"
   ]
  },
  {
   "cell_type": "code",
   "execution_count": 30,
   "metadata": {},
   "outputs": [
    {
     "name": "stdout",
     "output_type": "stream",
     "text": [
      "Test passed for number of unique patients being equal!\n"
     ]
    }
   ],
   "source": [
    "assert (d_train['patient_nbr'].nunique() + d_val['patient_nbr'].nunique() + d_test['patient_nbr'].nunique()) == processed_df['patient_nbr'].nunique()\n",
    "print(\"Test passed for number of unique patients being equal!\")"
   ]
  },
  {
   "cell_type": "markdown",
   "metadata": {},
   "source": [
    "## Demographic Representation Analysis of Split"
   ]
  },
  {
   "cell_type": "markdown",
   "metadata": {},
   "source": [
    "After the split, we should check to see the distribution of key features/groups and make sure that there is representative samples across the partitions. The show_group_stats_viz function in the utils.py file can be used to group and visualize different groups and dataframe partitions."
   ]
  },
  {
   "cell_type": "markdown",
   "metadata": {},
   "source": [
    "### Label Distribution Across Partitions"
   ]
  },
  {
   "cell_type": "markdown",
   "metadata": {},
   "source": [
    "Below you can see the distributution of the label across your splits. Are the histogram distribution shapes similar across partitions?"
   ]
  },
  {
   "cell_type": "code",
   "execution_count": 31,
   "metadata": {},
   "outputs": [
    {
     "name": "stdout",
     "output_type": "stream",
     "text": [
      "time_in_hospital\n",
      "1.0     10715\n",
      "2.0     12397\n",
      "3.0     12701\n",
      "4.0      9567\n",
      "5.0      6839\n",
      "6.0      5171\n",
      "7.0      3999\n",
      "8.0      2918\n",
      "9.0      1990\n",
      "10.0     1558\n",
      "11.0     1241\n",
      "12.0      955\n",
      "13.0      795\n",
      "14.0      669\n",
      "dtype: int64\n",
      "AxesSubplot(0.125,0.125;0.775x0.755)\n"
     ]
    },
    {
     "data": {
      "image/png": "[encoded data removed]",
      "text/plain": [
       "<Figure size 432x288 with 1 Axes>"
      ]
     },
     "metadata": {
      "needs_background": "light"
     },
     "output_type": "display_data"
    }
   ],
   "source": [
    "show_group_stats_viz(processed_df, PREDICTOR_FIELD)"
   ]
  },
  {
   "cell_type": "code",
   "execution_count": 32,
   "metadata": {},
   "outputs": [
    {
     "name": "stdout",
     "output_type": "stream",
     "text": [
      "time_in_hospital\n",
      "1.0     6392\n",
      "2.0     7469\n",
      "3.0     7645\n",
      "4.0     5671\n",
      "5.0     4102\n",
      "6.0     3062\n",
      "7.0     2452\n",
      "8.0     1728\n",
      "9.0     1207\n",
      "10.0     929\n",
      "11.0     768\n",
      "12.0     597\n",
      "13.0     485\n",
      "14.0     402\n",
      "dtype: int64\n",
      "AxesSubplot(0.125,0.125;0.775x0.755)\n"
     ]
    },
    {
     "data": {
      "image/png": "[encoded data removed]",
      "text/plain": [
       "<Figure size 432x288 with 1 Axes>"
      ]
     },
     "metadata": {
      "needs_background": "light"
     },
     "output_type": "display_data"
    }
   ],
   "source": [
    "show_group_stats_viz(d_train, PREDICTOR_FIELD)"
   ]
  },
  {
   "cell_type": "code",
   "execution_count": 33,
   "metadata": {},
   "outputs": [
    {
     "name": "stdout",
     "output_type": "stream",
     "text": [
      "time_in_hospital\n",
      "1.0     2192\n",
      "2.0     2434\n",
      "3.0     2557\n",
      "4.0     1952\n",
      "5.0     1411\n",
      "6.0     1030\n",
      "7.0      791\n",
      "8.0      585\n",
      "9.0      376\n",
      "10.0     301\n",
      "11.0     228\n",
      "12.0     170\n",
      "13.0     144\n",
      "14.0     132\n",
      "dtype: int64\n",
      "AxesSubplot(0.125,0.125;0.775x0.755)\n"
     ]
    },
    {
     "data": {
      "image/png": "[encoded data removed]",
      "text/plain": [
       "<Figure size 432x288 with 1 Axes>"
      ]
     },
     "metadata": {
      "needs_background": "light"
     },
     "output_type": "display_data"
    }
   ],
   "source": [
    "show_group_stats_viz(d_val, PREDICTOR_FIELD)"
   ]
  },
  {
   "cell_type": "code",
   "execution_count": 34,
   "metadata": {},
   "outputs": [
    {
     "name": "stdout",
     "output_type": "stream",
     "text": [
      "time_in_hospital\n",
      "1.0     2131\n",
      "2.0     2494\n",
      "3.0     2499\n",
      "4.0     1944\n",
      "5.0     1326\n",
      "6.0     1079\n",
      "7.0      756\n",
      "8.0      605\n",
      "9.0      407\n",
      "10.0     328\n",
      "11.0     245\n",
      "12.0     188\n",
      "13.0     166\n",
      "14.0     135\n",
      "dtype: int64\n",
      "AxesSubplot(0.125,0.125;0.775x0.755)\n"
     ]
    },
    {
     "data": {
      "image/png": "[encoded data removed]",
      "text/plain": [
       "<Figure size 432x288 with 1 Axes>"
      ]
     },
     "metadata": {
      "needs_background": "light"
     },
     "output_type": "display_data"
    }
   ],
   "source": [
    "show_group_stats_viz(d_test, PREDICTOR_FIELD)"
   ]
  },
  {
   "cell_type": "markdown",
   "metadata": {},
   "source": [
    "## Demographic Group Analysis"
   ]
  },
  {
   "cell_type": "markdown",
   "metadata": {},
   "source": [
    "We should check that our partitions/splits of the dataset are similar in terms of their demographic profiles. Below you can see how we might visualize and analyze the full dataset vs. the partitions."
   ]
  },
  {
   "cell_type": "code",
   "execution_count": 35,
   "metadata": {},
   "outputs": [
    {
     "name": "stdout",
     "output_type": "stream",
     "text": [
      "gender\n",
      "Female    38025\n",
      "Male      33490\n",
      "dtype: int64\n",
      "AxesSubplot(0.125,0.125;0.775x0.755)\n"
     ]
    },
    {
     "data": {
      "image/png": "[encoded data removed]",
      "text/plain": [
       "<Figure size 432x288 with 1 Axes>"
      ]
     },
     "metadata": {
      "needs_background": "light"
     },
     "output_type": "display_data"
    }
   ],
   "source": [
    "# Full dataset before splitting\n",
    "patient_demo_features = ['race', 'gender', 'age', 'patient_nbr']\n",
    "patient_group_analysis_df = processed_df[patient_demo_features].groupby('patient_nbr').head(1).reset_index(drop=True)\n",
    "show_group_stats_viz(patient_group_analysis_df, 'gender')"
   ]
  },
  {
   "cell_type": "code",
   "execution_count": 36,
   "metadata": {},
   "outputs": [
    {
     "name": "stdout",
     "output_type": "stream",
     "text": [
      "gender\n",
      "Female    22723\n",
      "Male      20186\n",
      "dtype: int64\n",
      "AxesSubplot(0.125,0.125;0.775x0.755)\n"
     ]
    },
    {
     "data": {
      "image/png": "[encoded data removed]",
      "text/plain": [
       "<Figure size 432x288 with 1 Axes>"
      ]
     },
     "metadata": {
      "needs_background": "light"
     },
     "output_type": "display_data"
    }
   ],
   "source": [
    "# Training partition\n",
    "show_group_stats_viz(d_train, 'gender')"
   ]
  },
  {
   "cell_type": "code",
   "execution_count": 37,
   "metadata": {},
   "outputs": [
    {
     "name": "stdout",
     "output_type": "stream",
     "text": [
      "gender\n",
      "Female    7657\n",
      "Male      6646\n",
      "dtype: int64\n",
      "AxesSubplot(0.125,0.125;0.775x0.755)\n"
     ]
    },
    {
     "data": {
      "image/png": "[encoded data removed]",
      "text/plain": [
       "<Figure size 432x288 with 1 Axes>"
      ]
     },
     "metadata": {
      "needs_background": "light"
     },
     "output_type": "display_data"
    }
   ],
   "source": [
    "show_group_stats_viz(d_val, 'gender')"
   ]
  },
  {
   "cell_type": "code",
   "execution_count": 38,
   "metadata": {},
   "outputs": [
    {
     "name": "stdout",
     "output_type": "stream",
     "text": [
      "gender\n",
      "Female    7645\n",
      "Male      6658\n",
      "dtype: int64\n",
      "AxesSubplot(0.125,0.125;0.775x0.755)\n"
     ]
    },
    {
     "data": {
      "image/png": "[encoded data removed]",
      "text/plain": [
       "<Figure size 432x288 with 1 Axes>"
      ]
     },
     "metadata": {
      "needs_background": "light"
     },
     "output_type": "display_data"
    }
   ],
   "source": [
    "# Test partition\n",
    "show_group_stats_viz(d_test, 'gender')"
   ]
  },
  {
   "cell_type": "code",
   "execution_count": 39,
   "metadata": {},
   "outputs": [
    {
     "name": "stdout",
     "output_type": "stream",
     "text": [
      "race\n",
      "?                   1946\n",
      "AfricanAmerican    12887\n",
      "Asian                497\n",
      "Caucasian          53491\n",
      "Hispanic            1517\n",
      "Other               1177\n",
      "dtype: int64\n",
      "AxesSubplot(0.125,0.125;0.775x0.755)\n"
     ]
    },
    {
     "data": {
      "image/png": "[encoded data removed]",
      "text/plain": [
       "<Figure size 432x288 with 1 Axes>"
      ]
     },
     "metadata": {
      "needs_background": "light"
     },
     "output_type": "display_data"
    }
   ],
   "source": [
    "show_group_stats_viz(patient_group_analysis_df, 'race')"
   ]
  },
  {
   "cell_type": "code",
   "execution_count": 40,
   "metadata": {},
   "outputs": [
    {
     "name": "stdout",
     "output_type": "stream",
     "text": [
      "race\n",
      "?                   1210\n",
      "AfricanAmerican     7781\n",
      "Asian                319\n",
      "Caucasian          32016\n",
      "Hispanic             896\n",
      "Other                687\n",
      "dtype: int64\n",
      "AxesSubplot(0.125,0.125;0.775x0.755)\n"
     ]
    },
    {
     "data": {
      "image/png": "[encoded data removed]",
      "text/plain": [
       "<Figure size 432x288 with 1 Axes>"
      ]
     },
     "metadata": {
      "needs_background": "light"
     },
     "output_type": "display_data"
    }
   ],
   "source": [
    "show_group_stats_viz(d_train, 'race')"
   ]
  },
  {
   "cell_type": "code",
   "execution_count": 41,
   "metadata": {},
   "outputs": [
    {
     "name": "stdout",
     "output_type": "stream",
     "text": [
      "race\n",
      "?                    329\n",
      "AfricanAmerican     2523\n",
      "Asian                101\n",
      "Caucasian          10806\n",
      "Hispanic             296\n",
      "Other                248\n",
      "dtype: int64\n",
      "AxesSubplot(0.125,0.125;0.775x0.755)\n"
     ]
    },
    {
     "data": {
      "image/png": "[encoded data removed]",
      "text/plain": [
       "<Figure size 432x288 with 1 Axes>"
      ]
     },
     "metadata": {
      "needs_background": "light"
     },
     "output_type": "display_data"
    }
   ],
   "source": [
    "show_group_stats_viz(d_val, 'race')"
   ]
  },
  {
   "cell_type": "code",
   "execution_count": 42,
   "metadata": {},
   "outputs": [
    {
     "name": "stdout",
     "output_type": "stream",
     "text": [
      "race\n",
      "?                    407\n",
      "AfricanAmerican     2583\n",
      "Asian                 77\n",
      "Caucasian          10669\n",
      "Hispanic             325\n",
      "Other                242\n",
      "dtype: int64\n",
      "AxesSubplot(0.125,0.125;0.775x0.755)\n"
     ]
    },
    {
     "data": {
      "image/png": "[encoded data removed]",
      "text/plain": [
       "<Figure size 432x288 with 1 Axes>"
      ]
     },
     "metadata": {
      "needs_background": "light"
     },
     "output_type": "display_data"
    }
   ],
   "source": [
    "show_group_stats_viz(d_test, 'race')"
   ]
  },
  {
   "cell_type": "code",
   "execution_count": 43,
   "metadata": {},
   "outputs": [
    {
     "name": "stdout",
     "output_type": "stream",
     "text": [
      "age\n",
      "[0-10)        154\n",
      "[10-20)       535\n",
      "[20-30)      1127\n",
      "[30-40)      2699\n",
      "[40-50)      6878\n",
      "[50-60)     12466\n",
      "[60-70)     15959\n",
      "[70-80)     18208\n",
      "[80-90)     11589\n",
      "[90-100)     1900\n",
      "dtype: int64\n",
      "AxesSubplot(0.125,0.125;0.775x0.755)\n"
     ]
    },
    {
     "data": {
      "image/png": "[encoded data removed]",
      "text/plain": [
       "<Figure size 432x288 with 1 Axes>"
      ]
     },
     "metadata": {
      "needs_background": "light"
     },
     "output_type": "display_data"
    }
   ],
   "source": [
    "show_group_stats_viz(patient_group_analysis_df, 'age')"
   ]
  },
  {
   "cell_type": "code",
   "execution_count": 44,
   "metadata": {},
   "outputs": [
    {
     "name": "stdout",
     "output_type": "stream",
     "text": [
      "age\n",
      "[0-10)         90\n",
      "[10-20)       312\n",
      "[20-30)       664\n",
      "[30-40)      1596\n",
      "[40-50)      4091\n",
      "[50-60)      7531\n",
      "[60-70)      9596\n",
      "[70-80)     10901\n",
      "[80-90)      7001\n",
      "[90-100)     1127\n",
      "dtype: int64\n",
      "AxesSubplot(0.125,0.125;0.775x0.755)\n"
     ]
    },
    {
     "data": {
      "image/png": "[encoded data removed]",
      "text/plain": [
       "<Figure size 432x288 with 1 Axes>"
      ]
     },
     "metadata": {
      "needs_background": "light"
     },
     "output_type": "display_data"
    }
   ],
   "source": [
    "show_group_stats_viz(d_train, 'age')"
   ]
  },
  {
   "cell_type": "code",
   "execution_count": 45,
   "metadata": {},
   "outputs": [
    {
     "name": "stdout",
     "output_type": "stream",
     "text": [
      "age\n",
      "[0-10)        29\n",
      "[10-20)      109\n",
      "[20-30)      241\n",
      "[30-40)      535\n",
      "[40-50)     1423\n",
      "[50-60)     2469\n",
      "[60-70)     3221\n",
      "[70-80)     3569\n",
      "[80-90)     2294\n",
      "[90-100)     413\n",
      "dtype: int64\n",
      "AxesSubplot(0.125,0.125;0.775x0.755)\n"
     ]
    },
    {
     "data": {
      "image/png": "[encoded data removed]",
      "text/plain": [
       "<Figure size 432x288 with 1 Axes>"
      ]
     },
     "metadata": {
      "needs_background": "light"
     },
     "output_type": "display_data"
    }
   ],
   "source": [
    "show_group_stats_viz(d_val, 'age')"
   ]
  },
  {
   "cell_type": "code",
   "execution_count": 46,
   "metadata": {},
   "outputs": [
    {
     "name": "stdout",
     "output_type": "stream",
     "text": [
      "age\n",
      "[0-10)        35\n",
      "[10-20)      114\n",
      "[20-30)      222\n",
      "[30-40)      568\n",
      "[40-50)     1364\n",
      "[50-60)     2466\n",
      "[60-70)     3142\n",
      "[70-80)     3738\n",
      "[80-90)     2294\n",
      "[90-100)     360\n",
      "dtype: int64\n",
      "AxesSubplot(0.125,0.125;0.775x0.755)\n"
     ]
    },
    {
     "data": {
      "image/png": "[encoded data removed]",
      "text/plain": [
       "<Figure size 432x288 with 1 Axes>"
      ]
     },
     "metadata": {
      "needs_background": "light"
     },
     "output_type": "display_data"
    }
   ],
   "source": [
    "show_group_stats_viz(d_test, 'age')"
   ]
  },
  {
   "cell_type": "markdown",
   "metadata": {},
   "source": [
    "## Convert Dataset Splits to TF Dataset"
   ]
  },
  {
   "cell_type": "markdown",
   "metadata": {},
   "source": [
    "We have provided you the function to convert the Pandas dataframe to TF tensors using the TF Dataset API. \n",
    "Please note that this is not a scalable method and for larger datasets, the 'make_csv_dataset' method is recommended -https://www.tensorflow.org/api_docs/python/tf/data/experimental/make_csv_dataset."
   ]
  },
  {
   "cell_type": "code",
   "execution_count": 47,
   "metadata": {},
   "outputs": [],
   "source": [
    "# Convert dataset from Pandas dataframes to TF dataset \n",
    "batch_size = 128\n",
    "diabetes_train_ds = df_to_dataset(d_train, PREDICTOR_FIELD, batch_size=batch_size)\n",
    "diabetes_val_ds = df_to_dataset(d_val, PREDICTOR_FIELD, batch_size=batch_size)\n",
    "diabetes_test_ds = df_to_dataset(d_test, PREDICTOR_FIELD, batch_size=batch_size)"
   ]
  },
  {
   "cell_type": "code",
   "execution_count": 48,
   "metadata": {},
   "outputs": [],
   "source": [
    "# We use this sample of the dataset to show transformations later\n",
    "diabetes_batch = next(iter(diabetes_train_ds))[0]\n",
    "def demo(feature_column, example_batch):\n",
    "    feature_layer = layers.DenseFeatures(feature_column)\n",
    "    print(feature_layer(example_batch))"
   ]
  },
  {
   "cell_type": "markdown",
   "metadata": {},
   "source": [
    "# 4. Create Categorical Features with TF Feature Columns"
   ]
  },
  {
   "cell_type": "markdown",
   "metadata": {},
   "source": [
    "## Build Vocabulary for Categorical Features"
   ]
  },
  {
   "cell_type": "markdown",
   "metadata": {},
   "source": [
    "Before we can create the TF categorical features, we must first create the vocab files with the unique values for a given field that are from the **training** dataset. Below we have provided a function that you can use that only requires providing the pandas train dataset partition and the list of the categorical columns in a list format. The output variable 'vocab_file_list' will be a list of the file paths that can be used in the next step for creating the categorical features."
   ]
  },
  {
   "cell_type": "code",
   "execution_count": 49,
   "metadata": {},
   "outputs": [],
   "source": [
    "vocab_file_list = build_vocab_files(df=d_train, categorical_column_list=student_categorical_col_list, default_value='00')"
   ]
  },
  {
   "cell_type": "markdown",
   "metadata": {},
   "source": [
    "## Create Categorical Features with Tensorflow Feature Column API"
   ]
  },
  {
   "cell_type": "markdown",
   "metadata": {},
   "source": [
    "**Question 7**: Using the vocab file list from above that was derived from the features you selected earlier, please create categorical features with the Tensorflow Feature Column API, https://www.tensorflow.org/api_docs/python/tf/feature_column. Below is a function to help guide you."
   ]
  },
  {
   "cell_type": "code",
   "execution_count": 50,
   "metadata": {},
   "outputs": [
    {
     "name": "stdout",
     "output_type": "stream",
     "text": [
      "INFO:tensorflow:vocabulary_size = 8 in admission_type_id is inferred from the number of elements in the vocabulary_file ./diabetes_vocab/admission_type_id_vocab.txt.\n",
      "INFO:tensorflow:vocabulary_size = 12 in admission_source_id is inferred from the number of elements in the vocabulary_file ./diabetes_vocab/admission_source_id_vocab.txt.\n",
      "INFO:tensorflow:vocabulary_size = 45 in medical_specialty is inferred from the number of elements in the vocabulary_file ./diabetes_vocab/medical_specialty_vocab.txt.\n",
      "INFO:tensorflow:vocabulary_size = 354 in primary_diagnosis_code is inferred from the number of elements in the vocabulary_file ./diabetes_vocab/primary_diagnosis_code_vocab.txt.\n",
      "INFO:tensorflow:vocabulary_size = 5 in max_glu_serum is inferred from the number of elements in the vocabulary_file ./diabetes_vocab/max_glu_serum_vocab.txt.\n",
      "INFO:tensorflow:vocabulary_size = 5 in A1Cresult is inferred from the number of elements in the vocabulary_file ./diabetes_vocab/A1Cresult_vocab.txt.\n",
      "INFO:tensorflow:vocabulary_size = 3 in change is inferred from the number of elements in the vocabulary_file ./diabetes_vocab/change_vocab.txt.\n",
      "INFO:tensorflow:vocabulary_size = 4 in readmitted is inferred from the number of elements in the vocabulary_file ./diabetes_vocab/readmitted_vocab.txt.\n",
      "INFO:tensorflow:vocabulary_size = 7 in race is inferred from the number of elements in the vocabulary_file ./diabetes_vocab/race_vocab.txt.\n",
      "INFO:tensorflow:vocabulary_size = 3 in gender is inferred from the number of elements in the vocabulary_file ./diabetes_vocab/gender_vocab.txt.\n",
      "INFO:tensorflow:vocabulary_size = 11 in age is inferred from the number of elements in the vocabulary_file ./diabetes_vocab/age_vocab.txt.\n",
      "INFO:tensorflow:vocabulary_size = 3 in Acarbose is inferred from the number of elements in the vocabulary_file ./diabetes_vocab/Acarbose_vocab.txt.\n",
      "INFO:tensorflow:vocabulary_size = 3 in Glimepiride is inferred from the number of elements in the vocabulary_file ./diabetes_vocab/Glimepiride_vocab.txt.\n",
      "INFO:tensorflow:vocabulary_size = 3 in Glipizide is inferred from the number of elements in the vocabulary_file ./diabetes_vocab/Glipizide_vocab.txt.\n",
      "INFO:tensorflow:vocabulary_size = 3 in Glyburide is inferred from the number of elements in the vocabulary_file ./diabetes_vocab/Glyburide_vocab.txt.\n",
      "INFO:tensorflow:vocabulary_size = 3 in Glyburide_And_Metformin_Hydrochloride is inferred from the number of elements in the vocabulary_file ./diabetes_vocab/Glyburide_And_Metformin_Hydrochloride_vocab.txt.\n",
      "INFO:tensorflow:vocabulary_size = 3 in Glyburide-metformin_Hydrochloride is inferred from the number of elements in the vocabulary_file ./diabetes_vocab/Glyburide-metformin_Hydrochloride_vocab.txt.\n",
      "INFO:tensorflow:vocabulary_size = 3 in Human_Insulin is inferred from the number of elements in the vocabulary_file ./diabetes_vocab/Human_Insulin_vocab.txt.\n",
      "INFO:tensorflow:vocabulary_size = 3 in Insulin_Human is inferred from the number of elements in the vocabulary_file ./diabetes_vocab/Insulin_Human_vocab.txt.\n",
      "INFO:tensorflow:vocabulary_size = 3 in Metformin_Hcl is inferred from the number of elements in the vocabulary_file ./diabetes_vocab/Metformin_Hcl_vocab.txt.\n",
      "INFO:tensorflow:vocabulary_size = 3 in Metformin_Hydrochloride is inferred from the number of elements in the vocabulary_file ./diabetes_vocab/Metformin_Hydrochloride_vocab.txt.\n",
      "INFO:tensorflow:vocabulary_size = 3 in Miglitol is inferred from the number of elements in the vocabulary_file ./diabetes_vocab/Miglitol_vocab.txt.\n",
      "INFO:tensorflow:vocabulary_size = 3 in Nateglinide is inferred from the number of elements in the vocabulary_file ./diabetes_vocab/Nateglinide_vocab.txt.\n",
      "INFO:tensorflow:vocabulary_size = 3 in Pioglitazone is inferred from the number of elements in the vocabulary_file ./diabetes_vocab/Pioglitazone_vocab.txt.\n",
      "INFO:tensorflow:vocabulary_size = 3 in Pioglitazone_Hydrochloride_And_Glimepiride is inferred from the number of elements in the vocabulary_file ./diabetes_vocab/Pioglitazone_Hydrochloride_And_Glimepiride_vocab.txt.\n",
      "INFO:tensorflow:vocabulary_size = 3 in Repaglinide is inferred from the number of elements in the vocabulary_file ./diabetes_vocab/Repaglinide_vocab.txt.\n",
      "INFO:tensorflow:vocabulary_size = 3 in Rosiglitazone_Maleate is inferred from the number of elements in the vocabulary_file ./diabetes_vocab/Rosiglitazone_Maleate_vocab.txt.\n",
      "INFO:tensorflow:vocabulary_size = 3 in Tolazamide is inferred from the number of elements in the vocabulary_file ./diabetes_vocab/Tolazamide_vocab.txt.\n",
      "INFO:tensorflow:vocabulary_size = 3 in Tolbutamide is inferred from the number of elements in the vocabulary_file ./diabetes_vocab/Tolbutamide_vocab.txt.\n"
     ]
    }
   ],
   "source": [
    "from student_utils import create_tf_categorical_feature_cols\n",
    "tf_cat_col_list = create_tf_categorical_feature_cols(\n",
    "    categorical_col_list=student_categorical_col_list, vocab_dir='./diabetes_vocab/'\n",
    ")"
   ]
  },
  {
   "cell_type": "code",
   "execution_count": 51,
   "metadata": {},
   "outputs": [
    {
     "name": "stdout",
     "output_type": "stream",
     "text": [
      "Example categorical field:\n",
      "IndicatorColumn(categorical_column=VocabularyFileCategoricalColumn(key='admission_type_id', vocabulary_file='./diabetes_vocab/admission_type_id_vocab.txt', vocabulary_size=8, num_oov_buckets=1, dtype=tf.string, default_value=-1))\n",
      "tf.Tensor(\n",
      "[[0. 0. 1. ... 0. 0. 0.]\n",
      " [0. 1. 0. ... 0. 0. 0.]\n",
      " [0. 0. 1. ... 0. 0. 0.]\n",
      " ...\n",
      " [0. 1. 0. ... 0. 0. 0.]\n",
      " [0. 0. 1. ... 0. 0. 0.]\n",
      " [0. 0. 1. ... 0. 0. 0.]], shape=(128, 9), dtype=float32)\n"
     ]
    }
   ],
   "source": [
    "test_cat_var1 = tf_cat_col_list[0]\n",
    "print(\"Example categorical field:\\n{}\".format(test_cat_var1))\n",
    "demo(test_cat_var1, diabetes_batch)"
   ]
  },
  {
   "cell_type": "markdown",
   "metadata": {},
   "source": [
    "# 5. Create Numerical Features with TF Feature Columns"
   ]
  },
  {
   "cell_type": "markdown",
   "metadata": {},
   "source": [
    "**Question 8**: Using the TF Feature Column API(https://www.tensorflow.org/api_docs/python/tf/feature_column/), please create normalized Tensorflow numeric features for the model. Try to use the z-score normalizer function below to help as well as the 'calculate_stats_from_train_data' function."
   ]
  },
  {
   "cell_type": "code",
   "execution_count": 52,
   "metadata": {},
   "outputs": [],
   "source": [
    "from student_utils import create_tf_numeric_feature"
   ]
  },
  {
   "cell_type": "markdown",
   "metadata": {},
   "source": [
    "For simplicity the create_tf_numerical_feature_cols function below uses the same normalizer function across all features(z-score normalization) but if you have time feel free to analyze and adapt the normalizer based off the statistical distributions. You may find this as a good resource in determining which transformation fits best for the data https://developers.google.com/machine-learning/data-prep/transform/normalization.\n"
   ]
  },
  {
   "cell_type": "code",
   "execution_count": 53,
   "metadata": {},
   "outputs": [],
   "source": [
    "def calculate_stats_from_train_data(df, col):\n",
    "    mean = df[col].describe()['mean']\n",
    "    std = df[col].describe()['std']\n",
    "    return mean, std\n",
    "\n",
    "def create_tf_numerical_feature_cols(numerical_col_list, train_df):\n",
    "    tf_numeric_col_list = []\n",
    "    for c in numerical_col_list:\n",
    "        mean, std = calculate_stats_from_train_data(df=train_df, col=c)\n",
    "        tf_numeric_feature = create_tf_numeric_feature(col=c, MEAN=mean, STD=std, default_value=0)\n",
    "        tf_numeric_col_list.append(tf_numeric_feature)\n",
    "    return tf_numeric_col_list"
   ]
  },
  {
   "cell_type": "code",
   "execution_count": 54,
   "metadata": {},
   "outputs": [
    {
     "data": {
      "text/plain": [
       "58532    0\n",
       "64112    0\n",
       "43085    0\n",
       "58376    0\n",
       "48298    0\n",
       "        ..\n",
       "11604    0\n",
       "48775    0\n",
       "20863    1\n",
       "66034    0\n",
       "3128     0\n",
       "Name: number_outpatient, Length: 42909, dtype: int64"
      ]
     },
     "execution_count": 54,
     "metadata": {},
     "output_type": "execute_result"
    }
   ],
   "source": [
    "d_train['number_outpatient']"
   ]
  },
  {
   "cell_type": "code",
   "execution_count": 55,
   "metadata": {},
   "outputs": [],
   "source": [
    "tf_cont_col_list = create_tf_numerical_feature_cols(student_numerical_col_list, d_train)"
   ]
  },
  {
   "cell_type": "code",
   "execution_count": 76,
   "metadata": {},
   "outputs": [
    {
     "data": {
      "text/plain": [
       "7"
      ]
     },
     "execution_count": 76,
     "metadata": {},
     "output_type": "execute_result"
    }
   ],
   "source": [
    "len(tf_cont_col_list)"
   ]
  },
  {
   "cell_type": "code",
   "execution_count": 60,
   "metadata": {},
   "outputs": [
    {
     "data": {
      "text/plain": [
       "NumericColumn(key='number_outpatient', shape=(1,), default_value=(0,), dtype=tf.float64, normalizer_fn=functools.partial(<function normalize_numeric_with_zscore at 0x7f39e5b789d0>, mean=0.28112983290218835, std=1.0532982422550687))"
      ]
     },
     "execution_count": 60,
     "metadata": {},
     "output_type": "execute_result"
    }
   ],
   "source": [
    "tf_cont_col_list[0]"
   ]
  },
  {
   "cell_type": "code",
   "execution_count": null,
   "metadata": {},
   "outputs": [],
   "source": [
    "num_lab_procedures (3), num_medications (5)"
   ]
  },
  {
   "cell_type": "code",
   "execution_count": null,
   "metadata": {},
   "outputs": [],
   "source": [
    "def demo(feature_column, example_batch):\n",
    "    feature_layer = tf.keras.layers.DenseFeatures(feature_column)\n",
    "    print(feature_layer(example_batch))\n",
    "    return feature_layer(example_batch)"
   ]
  },
  {
   "cell_type": "code",
   "execution_count": 75,
   "metadata": {},
   "outputs": [
    {
     "data": {
      "text/plain": [
       "<tf.Tensor: shape=(128,), dtype=int64, numpy=\n",
       "array([0, 0, 0, 3, 0, 0, 0, 1, 0, 0, 0, 0, 0, 0, 0, 0, 0, 0, 0, 0, 0, 0,\n",
       "       0, 0, 0, 0, 0, 0, 0, 0, 0, 0, 0, 0, 0, 0, 0, 0, 0, 0, 0, 0, 0, 1,\n",
       "       2, 0, 0, 0, 0, 0, 0, 0, 0, 0, 0, 0, 0, 0, 0, 0, 0, 0, 0, 0, 2, 0,\n",
       "       1, 0, 0, 2, 0, 0, 2, 0, 0, 0, 0, 2, 0, 0, 3, 0, 0, 0, 0, 0, 4, 0,\n",
       "       0, 0, 0, 0, 0, 0, 0, 0, 0, 0, 0, 0, 0, 0, 2, 0, 0, 2, 0, 0, 0, 0,\n",
       "       1, 0, 0, 0, 0, 1, 2, 4, 0, 0, 1, 0, 0, 0, 0, 0, 0, 0])>"
      ]
     },
     "execution_count": 75,
     "metadata": {},
     "output_type": "execute_result"
    }
   ],
   "source": [
    "diabetes_batch['number_outpatient']"
   ]
  },
  {
   "cell_type": "code",
   "execution_count": 74,
   "metadata": {},
   "outputs": [
    {
     "name": "stdout",
     "output_type": "stream",
     "text": [
      "Example continuous field:\n",
      "NumericColumn(key='number_outpatient', shape=(1,), default_value=(0,), dtype=tf.float64, normalizer_fn=functools.partial(<function normalize_numeric_with_zscore at 0x7f39e5b789d0>, mean=0.28112983290218835, std=1.0532982422550687))\n",
      "\n",
      "tf.Tensor(\n",
      "[[0.]\n",
      " [0.]\n",
      " [0.]\n",
      " [3.]\n",
      " [0.]\n",
      " [0.]\n",
      " [0.]\n",
      " [1.]\n",
      " [0.]\n",
      " [0.]\n",
      " [0.]\n",
      " [0.]\n",
      " [0.]\n",
      " [0.]\n",
      " [0.]\n",
      " [0.]\n",
      " [0.]\n",
      " [0.]\n",
      " [0.]\n",
      " [0.]\n",
      " [0.]\n",
      " [0.]\n",
      " [0.]\n",
      " [0.]\n",
      " [0.]\n",
      " [0.]\n",
      " [0.]\n",
      " [0.]\n",
      " [0.]\n",
      " [0.]\n",
      " [0.]\n",
      " [0.]\n",
      " [0.]\n",
      " [0.]\n",
      " [0.]\n",
      " [0.]\n",
      " [0.]\n",
      " [0.]\n",
      " [0.]\n",
      " [0.]\n",
      " [0.]\n",
      " [0.]\n",
      " [0.]\n",
      " [1.]\n",
      " [2.]\n",
      " [0.]\n",
      " [0.]\n",
      " [0.]\n",
      " [0.]\n",
      " [0.]\n",
      " [0.]\n",
      " [0.]\n",
      " [0.]\n",
      " [0.]\n",
      " [0.]\n",
      " [0.]\n",
      " [0.]\n",
      " [0.]\n",
      " [0.]\n",
      " [0.]\n",
      " [0.]\n",
      " [0.]\n",
      " [0.]\n",
      " [0.]\n",
      " [2.]\n",
      " [0.]\n",
      " [1.]\n",
      " [0.]\n",
      " [0.]\n",
      " [2.]\n",
      " [0.]\n",
      " [0.]\n",
      " [2.]\n",
      " [0.]\n",
      " [0.]\n",
      " [0.]\n",
      " [0.]\n",
      " [2.]\n",
      " [0.]\n",
      " [0.]\n",
      " [3.]\n",
      " [0.]\n",
      " [0.]\n",
      " [0.]\n",
      " [0.]\n",
      " [0.]\n",
      " [4.]\n",
      " [0.]\n",
      " [0.]\n",
      " [0.]\n",
      " [0.]\n",
      " [0.]\n",
      " [0.]\n",
      " [0.]\n",
      " [0.]\n",
      " [0.]\n",
      " [0.]\n",
      " [0.]\n",
      " [0.]\n",
      " [0.]\n",
      " [0.]\n",
      " [0.]\n",
      " [2.]\n",
      " [0.]\n",
      " [0.]\n",
      " [2.]\n",
      " [0.]\n",
      " [0.]\n",
      " [0.]\n",
      " [0.]\n",
      " [1.]\n",
      " [0.]\n",
      " [0.]\n",
      " [0.]\n",
      " [0.]\n",
      " [1.]\n",
      " [2.]\n",
      " [4.]\n",
      " [0.]\n",
      " [0.]\n",
      " [1.]\n",
      " [0.]\n",
      " [0.]\n",
      " [0.]\n",
      " [0.]\n",
      " [0.]\n",
      " [0.]\n",
      " [0.]], shape=(128, 1), dtype=float32)\n"
     ]
    }
   ],
   "source": [
    "test_cont_var1 = tf_cont_col_list[0]\n",
    "print(\"Example continuous field:\\n{}\\n\".format(test_cont_var1))\n",
    "demo(test_cont_var1, diabetes_batch)"
   ]
  },
  {
   "cell_type": "code",
   "execution_count": 61,
   "metadata": {},
   "outputs": [
    {
     "name": "stdout",
     "output_type": "stream",
     "text": [
      "Example continuous field:\n",
      "NumericColumn(key='number_outpatient', shape=(1,), default_value=(0,), dtype=tf.float64, normalizer_fn=functools.partial(<function normalize_numeric_with_zscore at 0x7f39e5b789d0>, mean=0.28112983290218835, std=1.0532982422550687))\n",
      "\n",
      "tf.Tensor(\n",
      "[[0.]\n",
      " [0.]\n",
      " [0.]\n",
      " [3.]\n",
      " [0.]\n",
      " [0.]\n",
      " [0.]\n",
      " [1.]\n",
      " [0.]\n",
      " [0.]\n",
      " [0.]\n",
      " [0.]\n",
      " [0.]\n",
      " [0.]\n",
      " [0.]\n",
      " [0.]\n",
      " [0.]\n",
      " [0.]\n",
      " [0.]\n",
      " [0.]\n",
      " [0.]\n",
      " [0.]\n",
      " [0.]\n",
      " [0.]\n",
      " [0.]\n",
      " [0.]\n",
      " [0.]\n",
      " [0.]\n",
      " [0.]\n",
      " [0.]\n",
      " [0.]\n",
      " [0.]\n",
      " [0.]\n",
      " [0.]\n",
      " [0.]\n",
      " [0.]\n",
      " [0.]\n",
      " [0.]\n",
      " [0.]\n",
      " [0.]\n",
      " [0.]\n",
      " [0.]\n",
      " [0.]\n",
      " [1.]\n",
      " [2.]\n",
      " [0.]\n",
      " [0.]\n",
      " [0.]\n",
      " [0.]\n",
      " [0.]\n",
      " [0.]\n",
      " [0.]\n",
      " [0.]\n",
      " [0.]\n",
      " [0.]\n",
      " [0.]\n",
      " [0.]\n",
      " [0.]\n",
      " [0.]\n",
      " [0.]\n",
      " [0.]\n",
      " [0.]\n",
      " [0.]\n",
      " [0.]\n",
      " [2.]\n",
      " [0.]\n",
      " [1.]\n",
      " [0.]\n",
      " [0.]\n",
      " [2.]\n",
      " [0.]\n",
      " [0.]\n",
      " [2.]\n",
      " [0.]\n",
      " [0.]\n",
      " [0.]\n",
      " [0.]\n",
      " [2.]\n",
      " [0.]\n",
      " [0.]\n",
      " [3.]\n",
      " [0.]\n",
      " [0.]\n",
      " [0.]\n",
      " [0.]\n",
      " [0.]\n",
      " [4.]\n",
      " [0.]\n",
      " [0.]\n",
      " [0.]\n",
      " [0.]\n",
      " [0.]\n",
      " [0.]\n",
      " [0.]\n",
      " [0.]\n",
      " [0.]\n",
      " [0.]\n",
      " [0.]\n",
      " [0.]\n",
      " [0.]\n",
      " [0.]\n",
      " [0.]\n",
      " [2.]\n",
      " [0.]\n",
      " [0.]\n",
      " [2.]\n",
      " [0.]\n",
      " [0.]\n",
      " [0.]\n",
      " [0.]\n",
      " [1.]\n",
      " [0.]\n",
      " [0.]\n",
      " [0.]\n",
      " [0.]\n",
      " [1.]\n",
      " [2.]\n",
      " [4.]\n",
      " [0.]\n",
      " [0.]\n",
      " [1.]\n",
      " [0.]\n",
      " [0.]\n",
      " [0.]\n",
      " [0.]\n",
      " [0.]\n",
      " [0.]\n",
      " [0.]], shape=(128, 1), dtype=float32)\n"
     ]
    }
   ],
   "source": [
    "test_cont_var1 = tf_cont_col_list[0]\n",
    "print(\"Example continuous field:\\n{}\\n\".format(test_cont_var1))\n",
    "demo(test_cont_var1, diabetes_batch)"
   ]
  },
  {
   "cell_type": "markdown",
   "metadata": {},
   "source": [
    "# 6. Build Deep Learning Regression Model with Sequential API and TF Probability Layers"
   ]
  },
  {
   "cell_type": "markdown",
   "metadata": {},
   "source": [
    "## Use DenseFeatures to combine features for model"
   ]
  },
  {
   "cell_type": "markdown",
   "metadata": {},
   "source": [
    "Now that we have prepared categorical and numerical features using Tensorflow's Feature Column API, we can combine them into a dense vector representation for the model. Below we will create this new input layer, which we will call 'claim_feature_layer'."
   ]
  },
  {
   "cell_type": "code",
   "execution_count": 56,
   "metadata": {},
   "outputs": [],
   "source": [
    "claim_feature_columns = tf_cat_col_list + tf_cont_col_list\n",
    "claim_feature_layer = tf.keras.layers.DenseFeatures(claim_feature_columns)"
   ]
  },
  {
   "cell_type": "code",
   "execution_count": 57,
   "metadata": {},
   "outputs": [
    {
     "name": "stdout",
     "output_type": "stream",
     "text": [
      "admission_type_id\n",
      "admission_source_id\n",
      "medical_specialty\n",
      "primary_diagnosis_code\n",
      "max_glu_serum\n",
      "A1Cresult\n",
      "change\n",
      "readmitted\n",
      "race\n",
      "gender\n",
      "age\n",
      "Acarbose\n",
      "Glimepiride\n",
      "Glipizide\n",
      "Glyburide\n",
      "Glyburide_And_Metformin_Hydrochloride\n",
      "Glyburide-metformin_Hydrochloride\n",
      "Human_Insulin\n",
      "Insulin_Human\n",
      "Metformin_Hcl\n",
      "Metformin_Hydrochloride\n",
      "Miglitol\n",
      "Nateglinide\n",
      "Pioglitazone\n",
      "Pioglitazone_Hydrochloride_And_Glimepiride\n",
      "Repaglinide\n",
      "Rosiglitazone_Maleate\n",
      "Tolazamide\n",
      "Tolbutamide\n"
     ]
    }
   ],
   "source": [
    "for i in tf_cat_col_list:\n",
    "    print(i.categorical_column.key)"
   ]
  },
  {
   "cell_type": "code",
   "execution_count": 58,
   "metadata": {},
   "outputs": [
    {
     "name": "stdout",
     "output_type": "stream",
     "text": [
      "number_outpatient\n",
      "number_inpatient\n",
      "number_emergency\n",
      "num_lab_procedures\n",
      "number_diagnoses\n",
      "num_medications\n",
      "num_procedures\n"
     ]
    }
   ],
   "source": [
    "for i in tf_cont_col_list:\n",
    "    print(i.key)"
   ]
  },
  {
   "cell_type": "markdown",
   "metadata": {},
   "source": [
    "## Build Sequential API Model from DenseFeatures and TF Probability Layers"
   ]
  },
  {
   "cell_type": "markdown",
   "metadata": {},
   "source": [
    "Below we have provided some boilerplate code for building a model that connects the Sequential API, DenseFeatures, and Tensorflow Probability layers into a deep learning model. There are many opportunities to further optimize and explore different architectures through benchmarking and testing approaches in various research papers, loss and evaluation metrics, learning curves, hyperparameter tuning, TF probability layers, etc. Feel free to modify and explore as you wish."
   ]
  },
  {
   "cell_type": "markdown",
   "metadata": {},
   "source": [
    "**OPTIONAL**: Come up with a more optimal neural network architecture and hyperparameters. Share the process in discovering the architecture and hyperparameters."
   ]
  },
  {
   "cell_type": "code",
   "execution_count": 96,
   "metadata": {},
   "outputs": [],
   "source": [
    "def build_sequential_model(feature_layer):\n",
    "    model = tf.keras.Sequential([\n",
    "        feature_layer,\n",
    "#         tf.keras.layers.Dense(150, activation='relu'),\n",
    "#         tf.keras.layers.Dense(75, activation='relu'),\n",
    "        tf.keras.layers.Dense(1024, activation='relu'),\n",
    "        tf.keras.layers.Dense(512, activation='relu'),\n",
    "        tf.keras.layers.Dense(256, activation='relu'),\n",
    "        tf.keras.layers.Dense(150, activation='relu'),\n",
    "        tf.keras.layers.Dense(75, activation='relu'),\n",
    "        tfp.layers.DenseVariational(1+1, posterior_mean_field, prior_trainable),\n",
    "        tfp.layers.DistributionLambda(\n",
    "            lambda t:tfp.distributions.Normal(\n",
    "                loc=t[..., :1],\n",
    "                scale=1e-3 + tf.math.softplus(0.01 * t[...,1:])\n",
    "            )\n",
    "        ),\n",
    "    ])\n",
    "    return model\n",
    "\n",
    "def build_diabetes_model(train_ds, val_ds, feature_layer, epochs=5, loss_metric='mse'):\n",
    "    model = build_sequential_model(feature_layer=feature_layer)\n",
    "    # optimizer = tf.keras.optimizers.Adam(lr=0.001, beta_1=0.9, beta_2=0.999)\n",
    "    optimizer = tf.keras.optimizers.RMSprop(learning_rate=0.01, rho=0.9, momentum=0.0, epsilon=1e-07)\n",
    "    model.compile(optimizer=optimizer, loss=loss_metric, metrics=[loss_metric])\n",
    "    early_stop = tf.keras.callbacks.EarlyStopping(monitor='val_loss', patience=10, restore_best_weights=True)\n",
    "    cb_reduce_lr = tf.keras.callbacks.ReduceLROnPlateau(monitor='val_loss', mode='min', factor=0.2, patience=5, min_lr=1e-7)\n",
    "    history = model.fit(train_ds,\n",
    "                        validation_data=val_ds,\n",
    "                        callbacks=[cb_reduce_lr, early_stop],\n",
    "                        epochs=epochs)\n",
    "    return model, history "
   ]
  },
  {
   "cell_type": "code",
   "execution_count": 97,
   "metadata": {},
   "outputs": [
    {
     "name": "stdout",
     "output_type": "stream",
     "text": [
      "Epoch 1/1000\n",
      "336/336 [==============================] - 5s 15ms/step - loss: 83717.5625 - mse: 83716.2344 - val_loss: 13.6629 - val_mse: 11.9376 - lr: 0.0100\n",
      "Epoch 2/1000\n",
      "336/336 [==============================] - 4s 13ms/step - loss: 15.4407 - mse: 13.6070 - val_loss: 12.1037 - val_mse: 9.8533 - lr: 0.0100\n",
      "Epoch 3/1000\n",
      "336/336 [==============================] - 4s 13ms/step - loss: 10.6010 - mse: 8.5619 - val_loss: 8.5911 - val_mse: 6.8339 - lr: 0.0100\n",
      "Epoch 4/1000\n",
      "336/336 [==============================] - 4s 13ms/step - loss: 9.4521 - mse: 7.3194 - val_loss: 8.6337 - val_mse: 6.6965 - lr: 0.0100\n",
      "Epoch 5/1000\n",
      "336/336 [==============================] - 4s 13ms/step - loss: 8.7214 - mse: 6.7889 - val_loss: 8.1142 - val_mse: 6.1938 - lr: 0.0100\n",
      "Epoch 6/1000\n",
      "336/336 [==============================] - 4s 13ms/step - loss: 8.6121 - mse: 6.6302 - val_loss: 8.5474 - val_mse: 6.4250 - lr: 0.0100\n",
      "Epoch 7/1000\n",
      "336/336 [==============================] - 4s 13ms/step - loss: 8.4445 - mse: 6.4215 - val_loss: 8.5830 - val_mse: 6.2322 - lr: 0.0100\n",
      "Epoch 8/1000\n",
      "336/336 [==============================] - 4s 13ms/step - loss: 8.5694 - mse: 6.4713 - val_loss: 8.3461 - val_mse: 6.5113 - lr: 0.0100\n",
      "Epoch 9/1000\n",
      "336/336 [==============================] - 4s 13ms/step - loss: 8.3980 - mse: 6.3450 - val_loss: 8.3067 - val_mse: 6.2817 - lr: 0.0100\n",
      "Epoch 10/1000\n",
      "336/336 [==============================] - 4s 13ms/step - loss: 8.1072 - mse: 6.2327 - val_loss: 8.9389 - val_mse: 6.5178 - lr: 0.0100\n",
      "Epoch 11/1000\n",
      "336/336 [==============================] - 4s 13ms/step - loss: 7.5557 - mse: 5.8467 - val_loss: 7.4293 - val_mse: 5.9920 - lr: 0.0020\n",
      "Epoch 12/1000\n",
      "336/336 [==============================] - 4s 13ms/step - loss: 7.0492 - mse: 5.6874 - val_loss: 7.2332 - val_mse: 6.2141 - lr: 0.0020\n",
      "Epoch 13/1000\n",
      "336/336 [==============================] - 4s 13ms/step - loss: 6.6294 - mse: 5.6029 - val_loss: 7.1390 - val_mse: 5.9869 - lr: 0.0020\n",
      "Epoch 14/1000\n",
      "336/336 [==============================] - 4s 13ms/step - loss: 6.8222 - mse: 5.6561 - val_loss: 7.5730 - val_mse: 6.2251 - lr: 0.0020\n",
      "Epoch 15/1000\n",
      "336/336 [==============================] - 4s 13ms/step - loss: 6.6655 - mse: 5.5625 - val_loss: 7.1580 - val_mse: 6.2194 - lr: 0.0020\n",
      "Epoch 16/1000\n",
      "336/336 [==============================] - 4s 13ms/step - loss: 6.5303 - mse: 5.3945 - val_loss: 7.4863 - val_mse: 6.0821 - lr: 0.0020\n",
      "Epoch 17/1000\n",
      "336/336 [==============================] - 4s 13ms/step - loss: 6.4600 - mse: 5.4049 - val_loss: 7.0339 - val_mse: 6.0917 - lr: 0.0020\n",
      "Epoch 18/1000\n",
      "336/336 [==============================] - 4s 13ms/step - loss: 6.5538 - mse: 5.4138 - val_loss: 7.1078 - val_mse: 6.0524 - lr: 0.0020\n",
      "Epoch 19/1000\n",
      "336/336 [==============================] - 4s 13ms/step - loss: 6.4118 - mse: 5.3105 - val_loss: 7.3288 - val_mse: 6.3030 - lr: 0.0020\n",
      "Epoch 20/1000\n",
      "336/336 [==============================] - 4s 13ms/step - loss: 6.3242 - mse: 5.3152 - val_loss: 7.3458 - val_mse: 6.0587 - lr: 0.0020\n",
      "Epoch 21/1000\n",
      "336/336 [==============================] - 4s 13ms/step - loss: 6.3183 - mse: 5.2266 - val_loss: 7.2369 - val_mse: 6.2577 - lr: 0.0020\n",
      "Epoch 22/1000\n",
      "336/336 [==============================] - 4s 13ms/step - loss: 6.3074 - mse: 5.1887 - val_loss: 7.3861 - val_mse: 6.4703 - lr: 0.0020\n",
      "Epoch 23/1000\n",
      "336/336 [==============================] - 4s 13ms/step - loss: 5.8699 - mse: 4.9777 - val_loss: 7.3053 - val_mse: 6.1826 - lr: 4.0000e-04\n",
      "Epoch 24/1000\n",
      "336/336 [==============================] - 4s 13ms/step - loss: 5.8759 - mse: 4.9590 - val_loss: 7.3796 - val_mse: 6.4383 - lr: 4.0000e-04\n",
      "Epoch 25/1000\n",
      "336/336 [==============================] - 4s 13ms/step - loss: 5.9792 - mse: 4.9529 - val_loss: 7.6126 - val_mse: 6.4569 - lr: 4.0000e-04\n",
      "Epoch 26/1000\n",
      "336/336 [==============================] - 4s 13ms/step - loss: 5.9076 - mse: 4.9374 - val_loss: 7.4348 - val_mse: 6.4723 - lr: 4.0000e-04\n",
      "Epoch 27/1000\n",
      "336/336 [==============================] - 4s 13ms/step - loss: 5.9571 - mse: 4.9374 - val_loss: 7.3116 - val_mse: 6.6050 - lr: 4.0000e-04\n"
     ]
    }
   ],
   "source": [
    "diabetes_model, history = build_diabetes_model(\n",
    "    train_ds=diabetes_train_ds,\n",
    "    val_ds=diabetes_val_ds,\n",
    "    feature_layer=claim_feature_layer,\n",
    "    epochs=1000,\n",
    "    loss_metric='mse'\n",
    ")"
   ]
  },
  {
   "cell_type": "code",
   "execution_count": 98,
   "metadata": {},
   "outputs": [
    {
     "name": "stdout",
     "output_type": "stream",
     "text": [
      "Model: \"sequential_2\"\n",
      "_________________________________________________________________\n",
      "Layer (type)                 Output Shape              Param #   \n",
      "=================================================================\n",
      "dense_features_2 (DenseFeatu multiple                  0         \n",
      "_________________________________________________________________\n",
      "dense_4 (Dense)              multiple                  561152    \n",
      "_________________________________________________________________\n",
      "dense_5 (Dense)              multiple                  524800    \n",
      "_________________________________________________________________\n",
      "dense_6 (Dense)              multiple                  131328    \n",
      "_________________________________________________________________\n",
      "dense_7 (Dense)              multiple                  38550     \n",
      "_________________________________________________________________\n",
      "dense_8 (Dense)              multiple                  11325     \n",
      "_________________________________________________________________\n",
      "dense_variational_2 (DenseVa multiple                  456       \n",
      "_________________________________________________________________\n",
      "distribution_lambda_2 (Distr multiple                  0         \n",
      "=================================================================\n",
      "Total params: 1,267,611\n",
      "Trainable params: 1,267,611\n",
      "Non-trainable params: 0\n",
      "_________________________________________________________________\n"
     ]
    }
   ],
   "source": [
    "diabetes_model.summary()"
   ]
  },
  {
   "cell_type": "code",
   "execution_count": 99,
   "metadata": {},
   "outputs": [
    {
     "name": "stdout",
     "output_type": "stream",
     "text": [
      "112/112 [==============================] - 1s 8ms/step - loss: 7.3028 - mse: 6.1842\n"
     ]
    },
    {
     "data": {
      "text/plain": [
       "[7.302760124206543, 6.1842041015625]"
      ]
     },
     "execution_count": 99,
     "metadata": {},
     "output_type": "execute_result"
    }
   ],
   "source": [
    "diabetes_model.evaluate(diabetes_test_ds)"
   ]
  },
  {
   "cell_type": "markdown",
   "metadata": {},
   "source": [
    "## Show Model Uncertainty Range with TF Probability"
   ]
  },
  {
   "cell_type": "markdown",
   "metadata": {},
   "source": [
    "**Question 9**: Now that we have trained a model with TF Probability layers, we can extract the mean and standard deviation for each prediction. Please fill in the answer for the m and s variables below. The code for getting the predictions is provided for you below."
   ]
  },
  {
   "cell_type": "code",
   "execution_count": 100,
   "metadata": {},
   "outputs": [],
   "source": [
    "feature_list = student_categorical_col_list + student_numerical_col_list\n",
    "diabetes_x_tst = dict(d_test[feature_list])\n",
    "diabetes_yhat = diabetes_model(diabetes_x_tst)\n",
    "preds = diabetes_model.predict(diabetes_test_ds)"
   ]
  },
  {
   "cell_type": "code",
   "execution_count": 101,
   "metadata": {},
   "outputs": [],
   "source": [
    "from student_utils import get_mean_std_from_preds\n",
    "m, s = get_mean_std_from_preds(diabetes_yhat)"
   ]
  },
  {
   "cell_type": "markdown",
   "metadata": {},
   "source": [
    "## Show Prediction Output "
   ]
  },
  {
   "cell_type": "code",
   "execution_count": 102,
   "metadata": {},
   "outputs": [],
   "source": [
    "prob_outputs = {\n",
    "    \"pred\": preds.flatten(),\n",
    "    \"actual_value\": d_test['time_in_hospital'].values,\n",
    "    \"pred_mean\": m.numpy().flatten(),\n",
    "    \"pred_std\": s.numpy().flatten()\n",
    "}\n",
    "prob_output_df = pd.DataFrame(prob_outputs)"
   ]
  },
  {
   "cell_type": "code",
   "execution_count": 103,
   "metadata": {},
   "outputs": [
    {
     "data": {
      "text/html": [
       "<div>\n",
       "<style scoped>\n",
       "    .dataframe tbody tr th:only-of-type {\n",
       "        vertical-align: middle;\n",
       "    }\n",
       "\n",
       "    .dataframe tbody tr th {\n",
       "        vertical-align: top;\n",
       "    }\n",
       "\n",
       "    .dataframe thead th {\n",
       "        text-align: right;\n",
       "    }\n",
       "</style>\n",
       "<table border=\"1\" class=\"dataframe\">\n",
       "  <thead>\n",
       "    <tr style=\"text-align: right;\">\n",
       "      <th></th>\n",
       "      <th>pred</th>\n",
       "      <th>actual_value</th>\n",
       "      <th>pred_mean</th>\n",
       "      <th>pred_std</th>\n",
       "    </tr>\n",
       "  </thead>\n",
       "  <tbody>\n",
       "    <tr>\n",
       "      <th>0</th>\n",
       "      <td>3.855977</td>\n",
       "      <td>13.0</td>\n",
       "      <td>10.714220</td>\n",
       "      <td>0.693564</td>\n",
       "    </tr>\n",
       "    <tr>\n",
       "      <th>1</th>\n",
       "      <td>4.533684</td>\n",
       "      <td>6.0</td>\n",
       "      <td>4.498952</td>\n",
       "      <td>0.694796</td>\n",
       "    </tr>\n",
       "    <tr>\n",
       "      <th>2</th>\n",
       "      <td>3.583895</td>\n",
       "      <td>2.0</td>\n",
       "      <td>4.463540</td>\n",
       "      <td>0.694804</td>\n",
       "    </tr>\n",
       "    <tr>\n",
       "      <th>3</th>\n",
       "      <td>1.794449</td>\n",
       "      <td>2.0</td>\n",
       "      <td>3.357630</td>\n",
       "      <td>0.695057</td>\n",
       "    </tr>\n",
       "    <tr>\n",
       "      <th>4</th>\n",
       "      <td>2.729824</td>\n",
       "      <td>1.0</td>\n",
       "      <td>3.357630</td>\n",
       "      <td>0.695057</td>\n",
       "    </tr>\n",
       "  </tbody>\n",
       "</table>\n",
       "</div>"
      ],
      "text/plain": [
       "       pred  actual_value  pred_mean  pred_std\n",
       "0  3.855977          13.0  10.714220  0.693564\n",
       "1  4.533684           6.0   4.498952  0.694796\n",
       "2  3.583895           2.0   4.463540  0.694804\n",
       "3  1.794449           2.0   3.357630  0.695057\n",
       "4  2.729824           1.0   3.357630  0.695057"
      ]
     },
     "execution_count": 103,
     "metadata": {},
     "output_type": "execute_result"
    }
   ],
   "source": [
    "prob_output_df.head()"
   ]
  },
  {
   "cell_type": "markdown",
   "metadata": {},
   "source": [
    "## Convert Regression Output to Classification Output for Patient Selection"
   ]
  },
  {
   "cell_type": "markdown",
   "metadata": {},
   "source": [
    "**Question 10**: Given the output predictions, convert it to a binary label for whether the patient meets the time criteria or does not (HINT: use the mean prediction numpy array). The expected output is a numpy array with a 1 or 0 based off if the prediction meets or doesnt meet the criteria."
   ]
  },
  {
   "cell_type": "code",
   "execution_count": 104,
   "metadata": {},
   "outputs": [
    {
     "data": {
      "text/plain": [
       "0        1\n",
       "1        0\n",
       "2        0\n",
       "3        0\n",
       "4        0\n",
       "        ..\n",
       "14298    1\n",
       "14299    0\n",
       "14300    0\n",
       "14301    1\n",
       "14302    0\n",
       "Name: pred_mean, Length: 14303, dtype: int64"
      ]
     },
     "execution_count": 104,
     "metadata": {},
     "output_type": "execute_result"
    }
   ],
   "source": [
    "(prob_output_df['pred_mean']>5).astype(int)"
   ]
  },
  {
   "cell_type": "code",
   "execution_count": 105,
   "metadata": {},
   "outputs": [],
   "source": [
    "from student_utils import get_student_binary_prediction\n",
    "student_binary_prediction = get_student_binary_prediction(prob_output_df, 'pred_mean')"
   ]
  },
  {
   "cell_type": "markdown",
   "metadata": {},
   "source": [
    "### Add Binary Prediction to Test Dataframe"
   ]
  },
  {
   "cell_type": "markdown",
   "metadata": {},
   "source": [
    "Using the student_binary_prediction output that is a numpy array with binary labels, we can use this to add to a dataframe to better visualize and also to prepare the data for the Aequitas toolkit. The Aequitas toolkit requires that the predictions be mapped to a binary label for the predictions (called 'score' field) and the actual value (called 'label_value')."
   ]
  },
  {
   "cell_type": "code",
   "execution_count": 106,
   "metadata": {},
   "outputs": [
    {
     "name": "stderr",
     "output_type": "stream",
     "text": [
      "<ipython-input-106-f592ba0c0993>:3: SettingWithCopyWarning: \n",
      "A value is trying to be set on a copy of a slice from a DataFrame.\n",
      "Try using .loc[row_indexer,col_indexer] = value instead\n",
      "\n",
      "See the caveats in the documentation: https://pandas.pydata.org/pandas-docs/stable/user_guide/indexing.html#returning-a-view-versus-a-copy\n",
      "  test_df[c] = test_df[c].astype(str)\n",
      "<ipython-input-106-f592ba0c0993>:4: SettingWithCopyWarning: \n",
      "A value is trying to be set on a copy of a slice from a DataFrame.\n",
      "Try using .loc[row_indexer,col_indexer] = value instead\n",
      "\n",
      "See the caveats in the documentation: https://pandas.pydata.org/pandas-docs/stable/user_guide/indexing.html#returning-a-view-versus-a-copy\n",
      "  test_df['score'] = pred_np\n",
      "<ipython-input-106-f592ba0c0993>:5: SettingWithCopyWarning: \n",
      "A value is trying to be set on a copy of a slice from a DataFrame.\n",
      "Try using .loc[row_indexer,col_indexer] = value instead\n",
      "\n",
      "See the caveats in the documentation: https://pandas.pydata.org/pandas-docs/stable/user_guide/indexing.html#returning-a-view-versus-a-copy\n",
      "  test_df['label_value'] = test_df['time_in_hospital'].apply(lambda x: 1 if x >=5 else 0)\n"
     ]
    }
   ],
   "source": [
    "def add_pred_to_test(test_df, pred_np, demo_col_list):\n",
    "    for c in demo_col_list:\n",
    "        test_df[c] = test_df[c].astype(str)\n",
    "    test_df['score'] = pred_np\n",
    "    test_df['label_value'] = test_df['time_in_hospital'].apply(lambda x: 1 if x >=5 else 0)\n",
    "    return test_df\n",
    "\n",
    "pred_test_df = add_pred_to_test(d_test, student_binary_prediction, ['race', 'gender'])"
   ]
  },
  {
   "cell_type": "code",
   "execution_count": 107,
   "metadata": {},
   "outputs": [
    {
     "data": {
      "text/html": [
       "<div>\n",
       "<style scoped>\n",
       "    .dataframe tbody tr th:only-of-type {\n",
       "        vertical-align: middle;\n",
       "    }\n",
       "\n",
       "    .dataframe tbody tr th {\n",
       "        vertical-align: top;\n",
       "    }\n",
       "\n",
       "    .dataframe thead th {\n",
       "        text-align: right;\n",
       "    }\n",
       "</style>\n",
       "<table border=\"1\" class=\"dataframe\">\n",
       "  <thead>\n",
       "    <tr style=\"text-align: right;\">\n",
       "      <th></th>\n",
       "      <th>patient_nbr</th>\n",
       "      <th>gender</th>\n",
       "      <th>race</th>\n",
       "      <th>time_in_hospital</th>\n",
       "      <th>score</th>\n",
       "      <th>label_value</th>\n",
       "    </tr>\n",
       "  </thead>\n",
       "  <tbody>\n",
       "    <tr>\n",
       "      <th>0</th>\n",
       "      <td>48330783</td>\n",
       "      <td>Female</td>\n",
       "      <td>Caucasian</td>\n",
       "      <td>13.0</td>\n",
       "      <td>1.0</td>\n",
       "      <td>1</td>\n",
       "    </tr>\n",
       "    <tr>\n",
       "      <th>16</th>\n",
       "      <td>69422211</td>\n",
       "      <td>Male</td>\n",
       "      <td>?</td>\n",
       "      <td>6.0</td>\n",
       "      <td>1.0</td>\n",
       "      <td>1</td>\n",
       "    </tr>\n",
       "    <tr>\n",
       "      <th>19</th>\n",
       "      <td>21239181</td>\n",
       "      <td>Male</td>\n",
       "      <td>?</td>\n",
       "      <td>2.0</td>\n",
       "      <td>1.0</td>\n",
       "      <td>0</td>\n",
       "    </tr>\n",
       "    <tr>\n",
       "      <th>25</th>\n",
       "      <td>115196778</td>\n",
       "      <td>Female</td>\n",
       "      <td>Caucasian</td>\n",
       "      <td>2.0</td>\n",
       "      <td>1.0</td>\n",
       "      <td>0</td>\n",
       "    </tr>\n",
       "    <tr>\n",
       "      <th>38</th>\n",
       "      <td>80588529</td>\n",
       "      <td>Female</td>\n",
       "      <td>Caucasian</td>\n",
       "      <td>1.0</td>\n",
       "      <td>0.0</td>\n",
       "      <td>0</td>\n",
       "    </tr>\n",
       "    <tr>\n",
       "      <th>...</th>\n",
       "      <td>...</td>\n",
       "      <td>...</td>\n",
       "      <td>...</td>\n",
       "      <td>...</td>\n",
       "      <td>...</td>\n",
       "      <td>...</td>\n",
       "    </tr>\n",
       "    <tr>\n",
       "      <th>71497</th>\n",
       "      <td>105807996</td>\n",
       "      <td>Male</td>\n",
       "      <td>AfricanAmerican</td>\n",
       "      <td>7.0</td>\n",
       "      <td>NaN</td>\n",
       "      <td>1</td>\n",
       "    </tr>\n",
       "    <tr>\n",
       "      <th>71502</th>\n",
       "      <td>124767527</td>\n",
       "      <td>Male</td>\n",
       "      <td>Caucasian</td>\n",
       "      <td>4.0</td>\n",
       "      <td>NaN</td>\n",
       "      <td>0</td>\n",
       "    </tr>\n",
       "    <tr>\n",
       "      <th>71507</th>\n",
       "      <td>183766055</td>\n",
       "      <td>Male</td>\n",
       "      <td>Caucasian</td>\n",
       "      <td>3.0</td>\n",
       "      <td>NaN</td>\n",
       "      <td>0</td>\n",
       "    </tr>\n",
       "    <tr>\n",
       "      <th>71510</th>\n",
       "      <td>175326800</td>\n",
       "      <td>Male</td>\n",
       "      <td>Caucasian</td>\n",
       "      <td>13.0</td>\n",
       "      <td>NaN</td>\n",
       "      <td>1</td>\n",
       "    </tr>\n",
       "    <tr>\n",
       "      <th>71517</th>\n",
       "      <td>175429310</td>\n",
       "      <td>Male</td>\n",
       "      <td>Caucasian</td>\n",
       "      <td>6.0</td>\n",
       "      <td>NaN</td>\n",
       "      <td>1</td>\n",
       "    </tr>\n",
       "  </tbody>\n",
       "</table>\n",
       "<p>14303 rows × 6 columns</p>\n",
       "</div>"
      ],
      "text/plain": [
       "       patient_nbr  gender             race  time_in_hospital  score  \\\n",
       "0         48330783  Female        Caucasian              13.0    1.0   \n",
       "16        69422211    Male                ?               6.0    1.0   \n",
       "19        21239181    Male                ?               2.0    1.0   \n",
       "25       115196778  Female        Caucasian               2.0    1.0   \n",
       "38        80588529  Female        Caucasian               1.0    0.0   \n",
       "...            ...     ...              ...               ...    ...   \n",
       "71497    105807996    Male  AfricanAmerican               7.0    NaN   \n",
       "71502    124767527    Male        Caucasian               4.0    NaN   \n",
       "71507    183766055    Male        Caucasian               3.0    NaN   \n",
       "71510    175326800    Male        Caucasian              13.0    NaN   \n",
       "71517    175429310    Male        Caucasian               6.0    NaN   \n",
       "\n",
       "       label_value  \n",
       "0                1  \n",
       "16               1  \n",
       "19               0  \n",
       "25               0  \n",
       "38               0  \n",
       "...            ...  \n",
       "71497            1  \n",
       "71502            0  \n",
       "71507            0  \n",
       "71510            1  \n",
       "71517            1  \n",
       "\n",
       "[14303 rows x 6 columns]"
      ]
     },
     "execution_count": 107,
     "metadata": {},
     "output_type": "execute_result"
    }
   ],
   "source": [
    "pred_test_df[['patient_nbr', 'gender', 'race', 'time_in_hospital', 'score', 'label_value']]"
   ]
  },
  {
   "cell_type": "code",
   "execution_count": 108,
   "metadata": {},
   "outputs": [
    {
     "data": {
      "text/plain": [
       "NaN    11410\n",
       "0.0     1635\n",
       "1.0     1258\n",
       "Name: score, dtype: int64"
      ]
     },
     "execution_count": 108,
     "metadata": {},
     "output_type": "execute_result"
    }
   ],
   "source": [
    "pred_test_df['score'].value_counts(dropna=False)"
   ]
  },
  {
   "cell_type": "markdown",
   "metadata": {},
   "source": [
    "## Model Evaluation Metrics "
   ]
  },
  {
   "cell_type": "markdown",
   "metadata": {},
   "source": [
    "**Question 11**: Now it is time to use the newly created binary labels in the 'pred_test_df' dataframe to evaluate the model with some common classification metrics. Please create a report summary of the performance of the model and be sure to give the ROC AUC, F1 score(weighted), class precision and recall scores. "
   ]
  },
  {
   "cell_type": "markdown",
   "metadata": {},
   "source": [
    "For the report please be sure to include the following three parts:\n",
    "- With a non-technical audience in mind, explain the precision-recall tradeoff in regard to how you have optimized your model.\n",
    "\n",
    "- What are some areas of improvement for future iterations?\n",
    "\n",
    "\n",
    "\n",
    "\n",
    "\n",
    "\n",
    "\n",
    "For the first question you need to answer what exactly is the Precision-Recall Tradeoff. As you may already be knowing Precision tells us of all the data points predicted as positive by the model how many of them were actually positive. Similarly Recall tells us, of all the data points actually positive how many of them were predicted correctly by the model. Also as we try to increase the value of precision by changing the threshold value for prediction, Recall suffers.You need to explain these metrics in simple words.Please do consider adding which evaluation metric would be important for this particular case study. Is it Precision or Recall ?\n",
    "\n",
    "For the second question you need to explain the ways of improving your models. Here you can talk about trying out different model architectures, optimizers, learning rates etc which can boost your precision, recall, accuracy, roc score.For eg you can add some regularization which can prevent overfitting and make your model more robust."
   ]
  },
  {
   "cell_type": "code",
   "execution_count": 109,
   "metadata": {},
   "outputs": [
    {
     "name": "stderr",
     "output_type": "stream",
     "text": [
      "/home/ud/miniconda3/envs/py38ml/lib/python3.8/site-packages/pandas/core/generic.py:6245: SettingWithCopyWarning: \n",
      "A value is trying to be set on a copy of a slice from a DataFrame\n",
      "\n",
      "See the caveats in the documentation: https://pandas.pydata.org/pandas-docs/stable/user_guide/indexing.html#returning-a-view-versus-a-copy\n",
      "  self._update_inplace(new_data)\n"
     ]
    }
   ],
   "source": [
    "pred_test_df['score'].fillna(0, inplace=True)"
   ]
  },
  {
   "cell_type": "code",
   "execution_count": 110,
   "metadata": {},
   "outputs": [
    {
     "name": "stdout",
     "output_type": "stream",
     "text": [
      "              precision    recall  f1-score   support\n",
      "\n",
      "           0       0.64      0.92      0.76      9103\n",
      "           1       0.41      0.10      0.16      5200\n",
      "\n",
      "    accuracy                           0.62     14303\n",
      "   macro avg       0.53      0.51      0.46     14303\n",
      "weighted avg       0.56      0.62      0.54     14303\n",
      "\n"
     ]
    }
   ],
   "source": [
    "# AUC, F1, precision and recall\n",
    "# Summary\n",
    "print(sklearn.metrics.classification_report(pred_test_df['label_value'], pred_test_df['score']))"
   ]
  },
  {
   "cell_type": "code",
   "execution_count": 111,
   "metadata": {},
   "outputs": [
    {
     "data": {
      "text/plain": [
       "0.37894148080822204"
      ]
     },
     "execution_count": 111,
     "metadata": {},
     "output_type": "execute_result"
    }
   ],
   "source": [
    "sklearn.metrics.brier_score_loss(pred_test_df['label_value'], pred_test_df['score'])"
   ]
  },
  {
   "cell_type": "code",
   "execution_count": 112,
   "metadata": {},
   "outputs": [
    {
     "data": {
      "text/plain": [
       "0.5093128322024015"
      ]
     },
     "execution_count": 112,
     "metadata": {},
     "output_type": "execute_result"
    }
   ],
   "source": [
    "sklearn.metrics.roc_auc_score(pred_test_df['label_value'], pred_test_df['score'])"
   ]
  },
  {
   "cell_type": "code",
   "execution_count": 113,
   "metadata": {},
   "outputs": [
    {
     "data": {
      "text/html": [
       "<div>\n",
       "<style scoped>\n",
       "    .dataframe tbody tr th:only-of-type {\n",
       "        vertical-align: middle;\n",
       "    }\n",
       "\n",
       "    .dataframe tbody tr th {\n",
       "        vertical-align: top;\n",
       "    }\n",
       "\n",
       "    .dataframe thead th {\n",
       "        text-align: right;\n",
       "    }\n",
       "</style>\n",
       "<table border=\"1\" class=\"dataframe\">\n",
       "  <thead>\n",
       "    <tr style=\"text-align: right;\">\n",
       "      <th></th>\n",
       "      <th>patient_nbr</th>\n",
       "      <th>time_in_hospital</th>\n",
       "      <th>admission_type_id</th>\n",
       "      <th>admission_source_id</th>\n",
       "      <th>medical_specialty</th>\n",
       "      <th>primary_diagnosis_code</th>\n",
       "      <th>max_glu_serum</th>\n",
       "      <th>A1Cresult</th>\n",
       "      <th>change</th>\n",
       "      <th>readmitted</th>\n",
       "      <th>race</th>\n",
       "      <th>gender</th>\n",
       "      <th>age</th>\n",
       "      <th>Acarbose</th>\n",
       "      <th>Glimepiride</th>\n",
       "      <th>Glipizide</th>\n",
       "      <th>Glyburide</th>\n",
       "      <th>Glyburide_And_Metformin_Hydrochloride</th>\n",
       "      <th>Glyburide-metformin_Hydrochloride</th>\n",
       "      <th>Human_Insulin</th>\n",
       "      <th>Insulin_Human</th>\n",
       "      <th>Metformin_Hcl</th>\n",
       "      <th>Metformin_Hydrochloride</th>\n",
       "      <th>Miglitol</th>\n",
       "      <th>Nateglinide</th>\n",
       "      <th>Pioglitazone</th>\n",
       "      <th>Pioglitazone_Hydrochloride_And_Glimepiride</th>\n",
       "      <th>Repaglinide</th>\n",
       "      <th>Rosiglitazone_Maleate</th>\n",
       "      <th>Tolazamide</th>\n",
       "      <th>Tolbutamide</th>\n",
       "      <th>number_outpatient</th>\n",
       "      <th>number_inpatient</th>\n",
       "      <th>number_emergency</th>\n",
       "      <th>num_lab_procedures</th>\n",
       "      <th>number_diagnoses</th>\n",
       "      <th>num_medications</th>\n",
       "      <th>num_procedures</th>\n",
       "      <th>score</th>\n",
       "      <th>label_value</th>\n",
       "    </tr>\n",
       "  </thead>\n",
       "  <tbody>\n",
       "    <tr>\n",
       "      <th>0</th>\n",
       "      <td>48330783</td>\n",
       "      <td>13.0</td>\n",
       "      <td>2</td>\n",
       "      <td>4</td>\n",
       "      <td>?</td>\n",
       "      <td>398</td>\n",
       "      <td>None</td>\n",
       "      <td>None</td>\n",
       "      <td>Ch</td>\n",
       "      <td>NO</td>\n",
       "      <td>Caucasian</td>\n",
       "      <td>Female</td>\n",
       "      <td>[80-90)</td>\n",
       "      <td>0.0</td>\n",
       "      <td>0.0</td>\n",
       "      <td>1.0</td>\n",
       "      <td>0.0</td>\n",
       "      <td>0.0</td>\n",
       "      <td>0.0</td>\n",
       "      <td>0.0</td>\n",
       "      <td>1.0</td>\n",
       "      <td>0.0</td>\n",
       "      <td>0.0</td>\n",
       "      <td>0.0</td>\n",
       "      <td>0.0</td>\n",
       "      <td>0.0</td>\n",
       "      <td>0.0</td>\n",
       "      <td>0.0</td>\n",
       "      <td>0.0</td>\n",
       "      <td>0.0</td>\n",
       "      <td>0.0</td>\n",
       "      <td>-0.26201</td>\n",
       "      <td>-0.294531</td>\n",
       "      <td>-0.203351</td>\n",
       "      <td>1.249204</td>\n",
       "      <td>0.378138</td>\n",
       "      <td>1.479339</td>\n",
       "      <td>0.323595</td>\n",
       "      <td>1.0</td>\n",
       "      <td>1</td>\n",
       "    </tr>\n",
       "    <tr>\n",
       "      <th>16</th>\n",
       "      <td>69422211</td>\n",
       "      <td>6.0</td>\n",
       "      <td>3</td>\n",
       "      <td>2</td>\n",
       "      <td>?</td>\n",
       "      <td>?</td>\n",
       "      <td>None</td>\n",
       "      <td>None</td>\n",
       "      <td>Ch</td>\n",
       "      <td>NO</td>\n",
       "      <td>?</td>\n",
       "      <td>Male</td>\n",
       "      <td>[70-80)</td>\n",
       "      <td>0.0</td>\n",
       "      <td>0.0</td>\n",
       "      <td>0.0</td>\n",
       "      <td>1.0</td>\n",
       "      <td>0.0</td>\n",
       "      <td>0.0</td>\n",
       "      <td>0.0</td>\n",
       "      <td>1.0</td>\n",
       "      <td>0.0</td>\n",
       "      <td>0.0</td>\n",
       "      <td>0.0</td>\n",
       "      <td>0.0</td>\n",
       "      <td>0.0</td>\n",
       "      <td>0.0</td>\n",
       "      <td>0.0</td>\n",
       "      <td>0.0</td>\n",
       "      <td>0.0</td>\n",
       "      <td>0.0</td>\n",
       "      <td>-0.26201</td>\n",
       "      <td>-0.294531</td>\n",
       "      <td>-0.203351</td>\n",
       "      <td>-0.053922</td>\n",
       "      <td>0.378138</td>\n",
       "      <td>0.877737</td>\n",
       "      <td>0.323595</td>\n",
       "      <td>1.0</td>\n",
       "      <td>1</td>\n",
       "    </tr>\n",
       "    <tr>\n",
       "      <th>19</th>\n",
       "      <td>21239181</td>\n",
       "      <td>2.0</td>\n",
       "      <td>2</td>\n",
       "      <td>4</td>\n",
       "      <td>?</td>\n",
       "      <td>572</td>\n",
       "      <td>None</td>\n",
       "      <td>None</td>\n",
       "      <td>Ch</td>\n",
       "      <td>NO</td>\n",
       "      <td>?</td>\n",
       "      <td>Male</td>\n",
       "      <td>[60-70)</td>\n",
       "      <td>0.0</td>\n",
       "      <td>1.0</td>\n",
       "      <td>0.0</td>\n",
       "      <td>0.0</td>\n",
       "      <td>0.0</td>\n",
       "      <td>0.0</td>\n",
       "      <td>1.0</td>\n",
       "      <td>0.0</td>\n",
       "      <td>0.0</td>\n",
       "      <td>1.0</td>\n",
       "      <td>0.0</td>\n",
       "      <td>0.0</td>\n",
       "      <td>0.0</td>\n",
       "      <td>0.0</td>\n",
       "      <td>0.0</td>\n",
       "      <td>0.0</td>\n",
       "      <td>0.0</td>\n",
       "      <td>0.0</td>\n",
       "      <td>-0.26201</td>\n",
       "      <td>-0.294531</td>\n",
       "      <td>-0.203351</td>\n",
       "      <td>-0.354644</td>\n",
       "      <td>-0.624551</td>\n",
       "      <td>-0.566107</td>\n",
       "      <td>0.323595</td>\n",
       "      <td>1.0</td>\n",
       "      <td>0</td>\n",
       "    </tr>\n",
       "    <tr>\n",
       "      <th>25</th>\n",
       "      <td>115196778</td>\n",
       "      <td>2.0</td>\n",
       "      <td>1</td>\n",
       "      <td>1</td>\n",
       "      <td>Surgery-General</td>\n",
       "      <td>996</td>\n",
       "      <td>None</td>\n",
       "      <td>None</td>\n",
       "      <td>No</td>\n",
       "      <td>&gt;30</td>\n",
       "      <td>Caucasian</td>\n",
       "      <td>Female</td>\n",
       "      <td>[50-60)</td>\n",
       "      <td>0.0</td>\n",
       "      <td>0.0</td>\n",
       "      <td>0.0</td>\n",
       "      <td>0.0</td>\n",
       "      <td>0.0</td>\n",
       "      <td>0.0</td>\n",
       "      <td>1.0</td>\n",
       "      <td>0.0</td>\n",
       "      <td>0.0</td>\n",
       "      <td>0.0</td>\n",
       "      <td>0.0</td>\n",
       "      <td>0.0</td>\n",
       "      <td>0.0</td>\n",
       "      <td>0.0</td>\n",
       "      <td>0.0</td>\n",
       "      <td>0.0</td>\n",
       "      <td>0.0</td>\n",
       "      <td>0.0</td>\n",
       "      <td>-0.26201</td>\n",
       "      <td>-0.294531</td>\n",
       "      <td>-0.203351</td>\n",
       "      <td>-0.905967</td>\n",
       "      <td>-2.128584</td>\n",
       "      <td>-0.566107</td>\n",
       "      <td>0.323595</td>\n",
       "      <td>1.0</td>\n",
       "      <td>0</td>\n",
       "    </tr>\n",
       "    <tr>\n",
       "      <th>38</th>\n",
       "      <td>80588529</td>\n",
       "      <td>1.0</td>\n",
       "      <td>1</td>\n",
       "      <td>7</td>\n",
       "      <td>Cardiology</td>\n",
       "      <td>414</td>\n",
       "      <td>None</td>\n",
       "      <td>None</td>\n",
       "      <td>Ch</td>\n",
       "      <td>&gt;30</td>\n",
       "      <td>Caucasian</td>\n",
       "      <td>Female</td>\n",
       "      <td>[70-80)</td>\n",
       "      <td>0.0</td>\n",
       "      <td>0.0</td>\n",
       "      <td>0.0</td>\n",
       "      <td>0.0</td>\n",
       "      <td>0.0</td>\n",
       "      <td>0.0</td>\n",
       "      <td>1.0</td>\n",
       "      <td>0.0</td>\n",
       "      <td>0.0</td>\n",
       "      <td>1.0</td>\n",
       "      <td>0.0</td>\n",
       "      <td>0.0</td>\n",
       "      <td>0.0</td>\n",
       "      <td>0.0</td>\n",
       "      <td>0.0</td>\n",
       "      <td>0.0</td>\n",
       "      <td>0.0</td>\n",
       "      <td>0.0</td>\n",
       "      <td>-0.26201</td>\n",
       "      <td>-0.294531</td>\n",
       "      <td>-0.203351</td>\n",
       "      <td>-0.755606</td>\n",
       "      <td>-1.627240</td>\n",
       "      <td>-0.084826</td>\n",
       "      <td>-0.812874</td>\n",
       "      <td>0.0</td>\n",
       "      <td>0</td>\n",
       "    </tr>\n",
       "    <tr>\n",
       "      <th>...</th>\n",
       "      <td>...</td>\n",
       "      <td>...</td>\n",
       "      <td>...</td>\n",
       "      <td>...</td>\n",
       "      <td>...</td>\n",
       "      <td>...</td>\n",
       "      <td>...</td>\n",
       "      <td>...</td>\n",
       "      <td>...</td>\n",
       "      <td>...</td>\n",
       "      <td>...</td>\n",
       "      <td>...</td>\n",
       "      <td>...</td>\n",
       "      <td>...</td>\n",
       "      <td>...</td>\n",
       "      <td>...</td>\n",
       "      <td>...</td>\n",
       "      <td>...</td>\n",
       "      <td>...</td>\n",
       "      <td>...</td>\n",
       "      <td>...</td>\n",
       "      <td>...</td>\n",
       "      <td>...</td>\n",
       "      <td>...</td>\n",
       "      <td>...</td>\n",
       "      <td>...</td>\n",
       "      <td>...</td>\n",
       "      <td>...</td>\n",
       "      <td>...</td>\n",
       "      <td>...</td>\n",
       "      <td>...</td>\n",
       "      <td>...</td>\n",
       "      <td>...</td>\n",
       "      <td>...</td>\n",
       "      <td>...</td>\n",
       "      <td>...</td>\n",
       "      <td>...</td>\n",
       "      <td>...</td>\n",
       "      <td>...</td>\n",
       "      <td>...</td>\n",
       "    </tr>\n",
       "    <tr>\n",
       "      <th>71497</th>\n",
       "      <td>105807996</td>\n",
       "      <td>7.0</td>\n",
       "      <td>6</td>\n",
       "      <td>17</td>\n",
       "      <td>Family/GeneralPractice</td>\n",
       "      <td>518</td>\n",
       "      <td>None</td>\n",
       "      <td>None</td>\n",
       "      <td>No</td>\n",
       "      <td>NO</td>\n",
       "      <td>AfricanAmerican</td>\n",
       "      <td>Male</td>\n",
       "      <td>[60-70)</td>\n",
       "      <td>0.0</td>\n",
       "      <td>0.0</td>\n",
       "      <td>0.0</td>\n",
       "      <td>1.0</td>\n",
       "      <td>0.0</td>\n",
       "      <td>0.0</td>\n",
       "      <td>0.0</td>\n",
       "      <td>0.0</td>\n",
       "      <td>0.0</td>\n",
       "      <td>0.0</td>\n",
       "      <td>0.0</td>\n",
       "      <td>0.0</td>\n",
       "      <td>0.0</td>\n",
       "      <td>0.0</td>\n",
       "      <td>0.0</td>\n",
       "      <td>0.0</td>\n",
       "      <td>0.0</td>\n",
       "      <td>0.0</td>\n",
       "      <td>-0.26201</td>\n",
       "      <td>-0.294531</td>\n",
       "      <td>-0.203351</td>\n",
       "      <td>2.401970</td>\n",
       "      <td>0.879482</td>\n",
       "      <td>0.877737</td>\n",
       "      <td>1.460065</td>\n",
       "      <td>0.0</td>\n",
       "      <td>1</td>\n",
       "    </tr>\n",
       "    <tr>\n",
       "      <th>71502</th>\n",
       "      <td>124767527</td>\n",
       "      <td>4.0</td>\n",
       "      <td>1</td>\n",
       "      <td>7</td>\n",
       "      <td>?</td>\n",
       "      <td>250</td>\n",
       "      <td>None</td>\n",
       "      <td>None</td>\n",
       "      <td>Ch</td>\n",
       "      <td>NO</td>\n",
       "      <td>Caucasian</td>\n",
       "      <td>Male</td>\n",
       "      <td>[50-60)</td>\n",
       "      <td>0.0</td>\n",
       "      <td>1.0</td>\n",
       "      <td>0.0</td>\n",
       "      <td>0.0</td>\n",
       "      <td>0.0</td>\n",
       "      <td>0.0</td>\n",
       "      <td>0.0</td>\n",
       "      <td>1.0</td>\n",
       "      <td>0.0</td>\n",
       "      <td>1.0</td>\n",
       "      <td>0.0</td>\n",
       "      <td>0.0</td>\n",
       "      <td>0.0</td>\n",
       "      <td>0.0</td>\n",
       "      <td>0.0</td>\n",
       "      <td>0.0</td>\n",
       "      <td>0.0</td>\n",
       "      <td>0.0</td>\n",
       "      <td>-0.26201</td>\n",
       "      <td>-0.294531</td>\n",
       "      <td>-0.203351</td>\n",
       "      <td>-0.705486</td>\n",
       "      <td>-0.123207</td>\n",
       "      <td>0.035495</td>\n",
       "      <td>-0.812874</td>\n",
       "      <td>0.0</td>\n",
       "      <td>0</td>\n",
       "    </tr>\n",
       "    <tr>\n",
       "      <th>71507</th>\n",
       "      <td>183766055</td>\n",
       "      <td>3.0</td>\n",
       "      <td>2</td>\n",
       "      <td>1</td>\n",
       "      <td>?</td>\n",
       "      <td>682</td>\n",
       "      <td>None</td>\n",
       "      <td>&gt;8</td>\n",
       "      <td>Ch</td>\n",
       "      <td>NO</td>\n",
       "      <td>Caucasian</td>\n",
       "      <td>Male</td>\n",
       "      <td>[50-60)</td>\n",
       "      <td>0.0</td>\n",
       "      <td>1.0</td>\n",
       "      <td>0.0</td>\n",
       "      <td>0.0</td>\n",
       "      <td>0.0</td>\n",
       "      <td>0.0</td>\n",
       "      <td>0.0</td>\n",
       "      <td>0.0</td>\n",
       "      <td>0.0</td>\n",
       "      <td>1.0</td>\n",
       "      <td>0.0</td>\n",
       "      <td>0.0</td>\n",
       "      <td>0.0</td>\n",
       "      <td>0.0</td>\n",
       "      <td>0.0</td>\n",
       "      <td>0.0</td>\n",
       "      <td>0.0</td>\n",
       "      <td>0.0</td>\n",
       "      <td>-0.26201</td>\n",
       "      <td>-0.294531</td>\n",
       "      <td>1.760540</td>\n",
       "      <td>0.697882</td>\n",
       "      <td>-2.128584</td>\n",
       "      <td>-1.047389</td>\n",
       "      <td>-0.812874</td>\n",
       "      <td>0.0</td>\n",
       "      <td>0</td>\n",
       "    </tr>\n",
       "    <tr>\n",
       "      <th>71510</th>\n",
       "      <td>175326800</td>\n",
       "      <td>13.0</td>\n",
       "      <td>3</td>\n",
       "      <td>1</td>\n",
       "      <td>?</td>\n",
       "      <td>424</td>\n",
       "      <td>None</td>\n",
       "      <td>Norm</td>\n",
       "      <td>Ch</td>\n",
       "      <td>NO</td>\n",
       "      <td>Caucasian</td>\n",
       "      <td>Male</td>\n",
       "      <td>[70-80)</td>\n",
       "      <td>0.0</td>\n",
       "      <td>0.0</td>\n",
       "      <td>0.0</td>\n",
       "      <td>0.0</td>\n",
       "      <td>0.0</td>\n",
       "      <td>0.0</td>\n",
       "      <td>1.0</td>\n",
       "      <td>0.0</td>\n",
       "      <td>0.0</td>\n",
       "      <td>0.0</td>\n",
       "      <td>0.0</td>\n",
       "      <td>0.0</td>\n",
       "      <td>0.0</td>\n",
       "      <td>0.0</td>\n",
       "      <td>0.0</td>\n",
       "      <td>0.0</td>\n",
       "      <td>0.0</td>\n",
       "      <td>0.0</td>\n",
       "      <td>-0.26201</td>\n",
       "      <td>-0.294531</td>\n",
       "      <td>-0.203351</td>\n",
       "      <td>1.700287</td>\n",
       "      <td>4.388893</td>\n",
       "      <td>5.931194</td>\n",
       "      <td>2.596535</td>\n",
       "      <td>0.0</td>\n",
       "      <td>1</td>\n",
       "    </tr>\n",
       "    <tr>\n",
       "      <th>71517</th>\n",
       "      <td>175429310</td>\n",
       "      <td>6.0</td>\n",
       "      <td>1</td>\n",
       "      <td>7</td>\n",
       "      <td>?</td>\n",
       "      <td>530</td>\n",
       "      <td>None</td>\n",
       "      <td>None</td>\n",
       "      <td>No</td>\n",
       "      <td>NO</td>\n",
       "      <td>Caucasian</td>\n",
       "      <td>Male</td>\n",
       "      <td>[70-80)</td>\n",
       "      <td>0.0</td>\n",
       "      <td>0.0</td>\n",
       "      <td>0.0</td>\n",
       "      <td>0.0</td>\n",
       "      <td>0.0</td>\n",
       "      <td>0.0</td>\n",
       "      <td>0.0</td>\n",
       "      <td>0.0</td>\n",
       "      <td>0.0</td>\n",
       "      <td>0.0</td>\n",
       "      <td>0.0</td>\n",
       "      <td>0.0</td>\n",
       "      <td>0.0</td>\n",
       "      <td>0.0</td>\n",
       "      <td>0.0</td>\n",
       "      <td>0.0</td>\n",
       "      <td>0.0</td>\n",
       "      <td>0.0</td>\n",
       "      <td>-0.26201</td>\n",
       "      <td>-0.294531</td>\n",
       "      <td>-0.203351</td>\n",
       "      <td>-1.507410</td>\n",
       "      <td>0.879482</td>\n",
       "      <td>-1.528671</td>\n",
       "      <td>0.891830</td>\n",
       "      <td>0.0</td>\n",
       "      <td>1</td>\n",
       "    </tr>\n",
       "  </tbody>\n",
       "</table>\n",
       "<p>14303 rows × 40 columns</p>\n",
       "</div>"
      ],
      "text/plain": [
       "       patient_nbr  time_in_hospital admission_type_id admission_source_id  \\\n",
       "0         48330783              13.0                 2                   4   \n",
       "16        69422211               6.0                 3                   2   \n",
       "19        21239181               2.0                 2                   4   \n",
       "25       115196778               2.0                 1                   1   \n",
       "38        80588529               1.0                 1                   7   \n",
       "...            ...               ...               ...                 ...   \n",
       "71497    105807996               7.0                 6                  17   \n",
       "71502    124767527               4.0                 1                   7   \n",
       "71507    183766055               3.0                 2                   1   \n",
       "71510    175326800              13.0                 3                   1   \n",
       "71517    175429310               6.0                 1                   7   \n",
       "\n",
       "            medical_specialty primary_diagnosis_code max_glu_serum A1Cresult  \\\n",
       "0                           ?                    398          None      None   \n",
       "16                          ?                      ?          None      None   \n",
       "19                          ?                    572          None      None   \n",
       "25            Surgery-General                    996          None      None   \n",
       "38                 Cardiology                    414          None      None   \n",
       "...                       ...                    ...           ...       ...   \n",
       "71497  Family/GeneralPractice                    518          None      None   \n",
       "71502                       ?                    250          None      None   \n",
       "71507                       ?                    682          None        >8   \n",
       "71510                       ?                    424          None      Norm   \n",
       "71517                       ?                    530          None      None   \n",
       "\n",
       "      change readmitted             race  gender      age Acarbose  \\\n",
       "0         Ch         NO        Caucasian  Female  [80-90)      0.0   \n",
       "16        Ch         NO                ?    Male  [70-80)      0.0   \n",
       "19        Ch         NO                ?    Male  [60-70)      0.0   \n",
       "25        No        >30        Caucasian  Female  [50-60)      0.0   \n",
       "38        Ch        >30        Caucasian  Female  [70-80)      0.0   \n",
       "...      ...        ...              ...     ...      ...      ...   \n",
       "71497     No         NO  AfricanAmerican    Male  [60-70)      0.0   \n",
       "71502     Ch         NO        Caucasian    Male  [50-60)      0.0   \n",
       "71507     Ch         NO        Caucasian    Male  [50-60)      0.0   \n",
       "71510     Ch         NO        Caucasian    Male  [70-80)      0.0   \n",
       "71517     No         NO        Caucasian    Male  [70-80)      0.0   \n",
       "\n",
       "      Glimepiride Glipizide Glyburide Glyburide_And_Metformin_Hydrochloride  \\\n",
       "0             0.0       1.0       0.0                                   0.0   \n",
       "16            0.0       0.0       1.0                                   0.0   \n",
       "19            1.0       0.0       0.0                                   0.0   \n",
       "25            0.0       0.0       0.0                                   0.0   \n",
       "38            0.0       0.0       0.0                                   0.0   \n",
       "...           ...       ...       ...                                   ...   \n",
       "71497         0.0       0.0       1.0                                   0.0   \n",
       "71502         1.0       0.0       0.0                                   0.0   \n",
       "71507         1.0       0.0       0.0                                   0.0   \n",
       "71510         0.0       0.0       0.0                                   0.0   \n",
       "71517         0.0       0.0       0.0                                   0.0   \n",
       "\n",
       "      Glyburide-metformin_Hydrochloride Human_Insulin Insulin_Human  \\\n",
       "0                                   0.0           0.0           1.0   \n",
       "16                                  0.0           0.0           1.0   \n",
       "19                                  0.0           1.0           0.0   \n",
       "25                                  0.0           1.0           0.0   \n",
       "38                                  0.0           1.0           0.0   \n",
       "...                                 ...           ...           ...   \n",
       "71497                               0.0           0.0           0.0   \n",
       "71502                               0.0           0.0           1.0   \n",
       "71507                               0.0           0.0           0.0   \n",
       "71510                               0.0           1.0           0.0   \n",
       "71517                               0.0           0.0           0.0   \n",
       "\n",
       "      Metformin_Hcl Metformin_Hydrochloride Miglitol Nateglinide Pioglitazone  \\\n",
       "0               0.0                     0.0      0.0         0.0          0.0   \n",
       "16              0.0                     0.0      0.0         0.0          0.0   \n",
       "19              0.0                     1.0      0.0         0.0          0.0   \n",
       "25              0.0                     0.0      0.0         0.0          0.0   \n",
       "38              0.0                     1.0      0.0         0.0          0.0   \n",
       "...             ...                     ...      ...         ...          ...   \n",
       "71497           0.0                     0.0      0.0         0.0          0.0   \n",
       "71502           0.0                     1.0      0.0         0.0          0.0   \n",
       "71507           0.0                     1.0      0.0         0.0          0.0   \n",
       "71510           0.0                     0.0      0.0         0.0          0.0   \n",
       "71517           0.0                     0.0      0.0         0.0          0.0   \n",
       "\n",
       "      Pioglitazone_Hydrochloride_And_Glimepiride Repaglinide  \\\n",
       "0                                            0.0         0.0   \n",
       "16                                           0.0         0.0   \n",
       "19                                           0.0         0.0   \n",
       "25                                           0.0         0.0   \n",
       "38                                           0.0         0.0   \n",
       "...                                          ...         ...   \n",
       "71497                                        0.0         0.0   \n",
       "71502                                        0.0         0.0   \n",
       "71507                                        0.0         0.0   \n",
       "71510                                        0.0         0.0   \n",
       "71517                                        0.0         0.0   \n",
       "\n",
       "      Rosiglitazone_Maleate Tolazamide Tolbutamide  number_outpatient  \\\n",
       "0                       0.0        0.0         0.0           -0.26201   \n",
       "16                      0.0        0.0         0.0           -0.26201   \n",
       "19                      0.0        0.0         0.0           -0.26201   \n",
       "25                      0.0        0.0         0.0           -0.26201   \n",
       "38                      0.0        0.0         0.0           -0.26201   \n",
       "...                     ...        ...         ...                ...   \n",
       "71497                   0.0        0.0         0.0           -0.26201   \n",
       "71502                   0.0        0.0         0.0           -0.26201   \n",
       "71507                   0.0        0.0         0.0           -0.26201   \n",
       "71510                   0.0        0.0         0.0           -0.26201   \n",
       "71517                   0.0        0.0         0.0           -0.26201   \n",
       "\n",
       "       number_inpatient  number_emergency  num_lab_procedures  \\\n",
       "0             -0.294531         -0.203351            1.249204   \n",
       "16            -0.294531         -0.203351           -0.053922   \n",
       "19            -0.294531         -0.203351           -0.354644   \n",
       "25            -0.294531         -0.203351           -0.905967   \n",
       "38            -0.294531         -0.203351           -0.755606   \n",
       "...                 ...               ...                 ...   \n",
       "71497         -0.294531         -0.203351            2.401970   \n",
       "71502         -0.294531         -0.203351           -0.705486   \n",
       "71507         -0.294531          1.760540            0.697882   \n",
       "71510         -0.294531         -0.203351            1.700287   \n",
       "71517         -0.294531         -0.203351           -1.507410   \n",
       "\n",
       "       number_diagnoses  num_medications  num_procedures  score  label_value  \n",
       "0              0.378138         1.479339        0.323595    1.0            1  \n",
       "16             0.378138         0.877737        0.323595    1.0            1  \n",
       "19            -0.624551        -0.566107        0.323595    1.0            0  \n",
       "25            -2.128584        -0.566107        0.323595    1.0            0  \n",
       "38            -1.627240        -0.084826       -0.812874    0.0            0  \n",
       "...                 ...              ...             ...    ...          ...  \n",
       "71497          0.879482         0.877737        1.460065    0.0            1  \n",
       "71502         -0.123207         0.035495       -0.812874    0.0            0  \n",
       "71507         -2.128584        -1.047389       -0.812874    0.0            0  \n",
       "71510          4.388893         5.931194        2.596535    0.0            1  \n",
       "71517          0.879482        -1.528671        0.891830    0.0            1  \n",
       "\n",
       "[14303 rows x 40 columns]"
      ]
     },
     "execution_count": 113,
     "metadata": {},
     "output_type": "execute_result"
    }
   ],
   "source": [
    "pred_test_df"
   ]
  },
  {
   "cell_type": "code",
   "execution_count": 114,
   "metadata": {},
   "outputs": [],
   "source": [
    "tn, fp, fn, tp = sklearn.metrics.confusion_matrix(\n",
    "    y_true=pred_test_df['score'], y_pred=pred_test_df['label_value'], labels=None,\n",
    "    sample_weight=None, normalize=None\n",
    ").ravel()\n"
   ]
  },
  {
   "cell_type": "code",
   "execution_count": 115,
   "metadata": {},
   "outputs": [],
   "source": [
    "import seaborn as sns"
   ]
  },
  {
   "cell_type": "code",
   "execution_count": 116,
   "metadata": {},
   "outputs": [],
   "source": [
    "def plot_confusion_matrix(tp, tn, fp, fn):\n",
    "    \"\"\"\n",
    "    \n",
    "    \"\"\"\n",
    "    df_cm = pd.DataFrame([[tn,fp], [fn, tp]], index=range(2), columns=range(2))\n",
    "    sns.set(font_scale=1.4) # for label size\n",
    "    ax = sns.heatmap(df_cm, annot=True, annot_kws={\"size\": 14}, fmt=\"d\") # font size\n",
    "    _ = ax.set(xlabel='predictions', ylabel='labels', title='Confusion matrix')\n",
    "    return ax"
   ]
  },
  {
   "cell_type": "code",
   "execution_count": 117,
   "metadata": {},
   "outputs": [
    {
     "data": {
      "text/plain": [
       "<matplotlib.axes._subplots.AxesSubplot at 0x7f8dbc5af5e0>"
      ]
     },
     "execution_count": 117,
     "metadata": {},
     "output_type": "execute_result"
    },
    {
     "data": {
      "image/png": "[encoded data removed]",
      "text/plain": [
       "<Figure size 432x288 with 2 Axes>"
      ]
     },
     "metadata": {},
     "output_type": "display_data"
    }
   ],
   "source": [
    "plot_confusion_matrix(tp, tn, fp, fn)"
   ]
  },
  {
   "cell_type": "markdown",
   "metadata": {},
   "source": [
    "# 7. Evaluating Potential Model Biases with Aequitas Toolkit"
   ]
  },
  {
   "cell_type": "markdown",
   "metadata": {},
   "source": [
    "## Prepare Data For Aequitas Bias Toolkit "
   ]
  },
  {
   "cell_type": "markdown",
   "metadata": {},
   "source": [
    "Using the gender and race fields, we will prepare the data for the Aequitas Toolkit."
   ]
  },
  {
   "cell_type": "code",
   "execution_count": 81,
   "metadata": {},
   "outputs": [
    {
     "name": "stdout",
     "output_type": "stream",
     "text": [
      "model_id, score_thresholds 1 {'rank_abs': [360]}\n"
     ]
    },
    {
     "name": "stderr",
     "output_type": "stream",
     "text": [
      "/home/ud/miniconda3/envs/py38ml/lib/python3.8/site-packages/aequitas/group.py:143: SettingWithCopyWarning: \n",
      "A value is trying to be set on a copy of a slice from a DataFrame.\n",
      "Try using .loc[row_indexer,col_indexer] = value instead\n",
      "\n",
      "See the caveats in the documentation: https://pandas.pydata.org/pandas-docs/stable/user_guide/indexing.html#returning-a-view-versus-a-copy\n",
      "  df['score'] = df['score'].astype(float)\n"
     ]
    }
   ],
   "source": [
    "# Aequitas\n",
    "from aequitas.preprocessing import preprocess_input_df\n",
    "from aequitas.group import Group\n",
    "from aequitas.plotting import Plot\n",
    "from aequitas.bias import Bias\n",
    "from aequitas.fairness import Fairness\n",
    "\n",
    "ae_subset_df = pred_test_df[['race', 'gender', 'score', 'label_value']]\n",
    "ae_df, _ = preprocess_input_df(ae_subset_df)\n",
    "g = Group()\n",
    "xtab, _ = g.get_crosstabs(ae_df)\n",
    "absolute_metrics = g.list_absolute_metrics(xtab)\n",
    "clean_xtab = xtab.fillna(-1)\n",
    "aqp = Plot()\n",
    "b = Bias()"
   ]
  },
  {
   "cell_type": "markdown",
   "metadata": {},
   "source": [
    "## Reference Group Selection"
   ]
  },
  {
   "cell_type": "markdown",
   "metadata": {},
   "source": [
    "Below we have chosen the reference group for our analysis but feel free to select another one."
   ]
  },
  {
   "cell_type": "code",
   "execution_count": 82,
   "metadata": {},
   "outputs": [
    {
     "name": "stdout",
     "output_type": "stream",
     "text": [
      "get_disparity_predefined_group()\n"
     ]
    },
    {
     "name": "stderr",
     "output_type": "stream",
     "text": [
      "/home/ud/miniconda3/envs/py38ml/lib/python3.8/site-packages/aequitas/bias.py:368: FutureWarning: The pandas.np module is deprecated and will be removed from pandas in a future version. Import numpy directly instead\n",
      "  df = df.replace(pd.np.inf, fill_divbyzero)\n",
      "/home/ud/miniconda3/envs/py38ml/lib/python3.8/site-packages/aequitas/fairness.py:32: FutureWarning: The pandas.np module is deprecated and will be removed from pandas in a future version. Import numpy directly instead\n",
      "  self.fair_eval = lambda tau: lambda x: pd.np.nan if pd.np.isnan(x) else \\\n",
      "/home/ud/miniconda3/envs/py38ml/lib/python3.8/site-packages/aequitas/fairness.py:45: FutureWarning: The pandas.np module is deprecated and will be removed from pandas in a future version. Import numpy directly instead\n",
      "  self.high_level_pair_eval = lambda col1, col2: lambda x: pd.np.nan if (pd.np.isnan(x[col1]) and pd.np.isnan(x[col2])) \\\n"
     ]
    }
   ],
   "source": [
    "# test reference group with Caucasian Male\n",
    "bdf = b.get_disparity_predefined_groups(\n",
    "    clean_xtab, \n",
    "    original_df=ae_df,\n",
    "    ref_groups_dict={'race':'Caucasian', 'gender':'Male'}, \n",
    "    alpha=0.05,\n",
    "    check_significance=False\n",
    ")\n",
    "\n",
    "f = Fairness()\n",
    "fdf = f.get_group_value_fairness(bdf)"
   ]
  },
  {
   "cell_type": "code",
   "execution_count": 83,
   "metadata": {},
   "outputs": [
    {
     "data": {
      "text/html": [
       "<div>\n",
       "<style scoped>\n",
       "    .dataframe tbody tr th:only-of-type {\n",
       "        vertical-align: middle;\n",
       "    }\n",
       "\n",
       "    .dataframe tbody tr th {\n",
       "        vertical-align: top;\n",
       "    }\n",
       "\n",
       "    .dataframe thead th {\n",
       "        text-align: right;\n",
       "    }\n",
       "</style>\n",
       "<table border=\"1\" class=\"dataframe\">\n",
       "  <thead>\n",
       "    <tr style=\"text-align: right;\">\n",
       "      <th></th>\n",
       "      <th>model_id</th>\n",
       "      <th>score_threshold</th>\n",
       "      <th>k</th>\n",
       "      <th>attribute_name</th>\n",
       "      <th>attribute_value</th>\n",
       "      <th>tpr</th>\n",
       "      <th>tnr</th>\n",
       "      <th>for</th>\n",
       "      <th>fdr</th>\n",
       "      <th>fpr</th>\n",
       "      <th>fnr</th>\n",
       "      <th>npv</th>\n",
       "      <th>precision</th>\n",
       "      <th>pp</th>\n",
       "      <th>pn</th>\n",
       "      <th>ppr</th>\n",
       "      <th>pprev</th>\n",
       "      <th>fp</th>\n",
       "      <th>fn</th>\n",
       "      <th>tn</th>\n",
       "      <th>tp</th>\n",
       "      <th>group_label_pos</th>\n",
       "      <th>group_label_neg</th>\n",
       "      <th>group_size</th>\n",
       "      <th>total_entities</th>\n",
       "      <th>prev</th>\n",
       "      <th>ppr_disparity</th>\n",
       "      <th>pprev_disparity</th>\n",
       "      <th>precision_disparity</th>\n",
       "      <th>fdr_disparity</th>\n",
       "      <th>for_disparity</th>\n",
       "      <th>fpr_disparity</th>\n",
       "      <th>fnr_disparity</th>\n",
       "      <th>tpr_disparity</th>\n",
       "      <th>tnr_disparity</th>\n",
       "      <th>npv_disparity</th>\n",
       "      <th>ppr_ref_group_value</th>\n",
       "      <th>pprev_ref_group_value</th>\n",
       "      <th>precision_ref_group_value</th>\n",
       "      <th>fdr_ref_group_value</th>\n",
       "      <th>for_ref_group_value</th>\n",
       "      <th>fpr_ref_group_value</th>\n",
       "      <th>fnr_ref_group_value</th>\n",
       "      <th>tpr_ref_group_value</th>\n",
       "      <th>tnr_ref_group_value</th>\n",
       "      <th>npv_ref_group_value</th>\n",
       "      <th>Statistical Parity</th>\n",
       "      <th>Impact Parity</th>\n",
       "      <th>FDR Parity</th>\n",
       "      <th>FPR Parity</th>\n",
       "      <th>FOR Parity</th>\n",
       "      <th>FNR Parity</th>\n",
       "      <th>TPR Parity</th>\n",
       "      <th>TNR Parity</th>\n",
       "      <th>NPV Parity</th>\n",
       "      <th>Precision Parity</th>\n",
       "      <th>TypeI Parity</th>\n",
       "      <th>TypeII Parity</th>\n",
       "      <th>Equalized Odds</th>\n",
       "      <th>Unsupervised Fairness</th>\n",
       "      <th>Supervised Fairness</th>\n",
       "    </tr>\n",
       "  </thead>\n",
       "  <tbody>\n",
       "    <tr>\n",
       "      <th>0</th>\n",
       "      <td>1</td>\n",
       "      <td>binary 0/1</td>\n",
       "      <td>360</td>\n",
       "      <td>race</td>\n",
       "      <td>?</td>\n",
       "      <td>0.033557</td>\n",
       "      <td>0.975904</td>\n",
       "      <td>0.372093</td>\n",
       "      <td>0.545455</td>\n",
       "      <td>0.024096</td>\n",
       "      <td>0.966443</td>\n",
       "      <td>0.627907</td>\n",
       "      <td>0.454545</td>\n",
       "      <td>11</td>\n",
       "      <td>387</td>\n",
       "      <td>0.030556</td>\n",
       "      <td>0.027638</td>\n",
       "      <td>6</td>\n",
       "      <td>144</td>\n",
       "      <td>243</td>\n",
       "      <td>5</td>\n",
       "      <td>149</td>\n",
       "      <td>249</td>\n",
       "      <td>398</td>\n",
       "      <td>14303</td>\n",
       "      <td>0.374372</td>\n",
       "      <td>0.041353</td>\n",
       "      <td>1.106463</td>\n",
       "      <td>1.079545</td>\n",
       "      <td>0.942149</td>\n",
       "      <td>1.032730</td>\n",
       "      <td>1.063370</td>\n",
       "      <td>0.995377</td>\n",
       "      <td>1.154422</td>\n",
       "      <td>0.998531</td>\n",
       "      <td>0.981566</td>\n",
       "      <td>Caucasian</td>\n",
       "      <td>Caucasian</td>\n",
       "      <td>Caucasian</td>\n",
       "      <td>Caucasian</td>\n",
       "      <td>Caucasian</td>\n",
       "      <td>Caucasian</td>\n",
       "      <td>Caucasian</td>\n",
       "      <td>Caucasian</td>\n",
       "      <td>Caucasian</td>\n",
       "      <td>Caucasian</td>\n",
       "      <td>False</td>\n",
       "      <td>True</td>\n",
       "      <td>True</td>\n",
       "      <td>True</td>\n",
       "      <td>True</td>\n",
       "      <td>True</td>\n",
       "      <td>True</td>\n",
       "      <td>True</td>\n",
       "      <td>True</td>\n",
       "      <td>True</td>\n",
       "      <td>True</td>\n",
       "      <td>True</td>\n",
       "      <td>True</td>\n",
       "      <td>False</td>\n",
       "      <td>True</td>\n",
       "    </tr>\n",
       "    <tr>\n",
       "      <th>1</th>\n",
       "      <td>1</td>\n",
       "      <td>binary 0/1</td>\n",
       "      <td>360</td>\n",
       "      <td>race</td>\n",
       "      <td>AfricanAmerican</td>\n",
       "      <td>0.032487</td>\n",
       "      <td>0.975124</td>\n",
       "      <td>0.378025</td>\n",
       "      <td>0.555556</td>\n",
       "      <td>0.024876</td>\n",
       "      <td>0.967513</td>\n",
       "      <td>0.621975</td>\n",
       "      <td>0.444444</td>\n",
       "      <td>72</td>\n",
       "      <td>2521</td>\n",
       "      <td>0.200000</td>\n",
       "      <td>0.027767</td>\n",
       "      <td>40</td>\n",
       "      <td>953</td>\n",
       "      <td>1568</td>\n",
       "      <td>32</td>\n",
       "      <td>985</td>\n",
       "      <td>1608</td>\n",
       "      <td>2593</td>\n",
       "      <td>14303</td>\n",
       "      <td>0.379869</td>\n",
       "      <td>0.270677</td>\n",
       "      <td>1.111622</td>\n",
       "      <td>1.055556</td>\n",
       "      <td>0.959596</td>\n",
       "      <td>1.049193</td>\n",
       "      <td>1.097758</td>\n",
       "      <td>0.996479</td>\n",
       "      <td>1.117621</td>\n",
       "      <td>0.997733</td>\n",
       "      <td>0.972293</td>\n",
       "      <td>Caucasian</td>\n",
       "      <td>Caucasian</td>\n",
       "      <td>Caucasian</td>\n",
       "      <td>Caucasian</td>\n",
       "      <td>Caucasian</td>\n",
       "      <td>Caucasian</td>\n",
       "      <td>Caucasian</td>\n",
       "      <td>Caucasian</td>\n",
       "      <td>Caucasian</td>\n",
       "      <td>Caucasian</td>\n",
       "      <td>False</td>\n",
       "      <td>True</td>\n",
       "      <td>True</td>\n",
       "      <td>True</td>\n",
       "      <td>True</td>\n",
       "      <td>True</td>\n",
       "      <td>True</td>\n",
       "      <td>True</td>\n",
       "      <td>True</td>\n",
       "      <td>True</td>\n",
       "      <td>True</td>\n",
       "      <td>True</td>\n",
       "      <td>True</td>\n",
       "      <td>False</td>\n",
       "      <td>True</td>\n",
       "    </tr>\n",
       "    <tr>\n",
       "      <th>2</th>\n",
       "      <td>1</td>\n",
       "      <td>binary 0/1</td>\n",
       "      <td>360</td>\n",
       "      <td>race</td>\n",
       "      <td>Asian</td>\n",
       "      <td>0.035714</td>\n",
       "      <td>1.000000</td>\n",
       "      <td>0.250000</td>\n",
       "      <td>0.000000</td>\n",
       "      <td>0.000000</td>\n",
       "      <td>0.964286</td>\n",
       "      <td>0.750000</td>\n",
       "      <td>1.000000</td>\n",
       "      <td>1</td>\n",
       "      <td>108</td>\n",
       "      <td>0.002778</td>\n",
       "      <td>0.009174</td>\n",
       "      <td>0</td>\n",
       "      <td>27</td>\n",
       "      <td>81</td>\n",
       "      <td>1</td>\n",
       "      <td>28</td>\n",
       "      <td>81</td>\n",
       "      <td>109</td>\n",
       "      <td>14303</td>\n",
       "      <td>0.256881</td>\n",
       "      <td>0.003759</td>\n",
       "      <td>0.367283</td>\n",
       "      <td>2.375000</td>\n",
       "      <td>0.000000</td>\n",
       "      <td>0.693865</td>\n",
       "      <td>0.000000</td>\n",
       "      <td>0.993155</td>\n",
       "      <td>1.228635</td>\n",
       "      <td>1.023186</td>\n",
       "      <td>1.172425</td>\n",
       "      <td>Caucasian</td>\n",
       "      <td>Caucasian</td>\n",
       "      <td>Caucasian</td>\n",
       "      <td>Caucasian</td>\n",
       "      <td>Caucasian</td>\n",
       "      <td>Caucasian</td>\n",
       "      <td>Caucasian</td>\n",
       "      <td>Caucasian</td>\n",
       "      <td>Caucasian</td>\n",
       "      <td>Caucasian</td>\n",
       "      <td>False</td>\n",
       "      <td>False</td>\n",
       "      <td>False</td>\n",
       "      <td>False</td>\n",
       "      <td>False</td>\n",
       "      <td>True</td>\n",
       "      <td>True</td>\n",
       "      <td>True</td>\n",
       "      <td>True</td>\n",
       "      <td>False</td>\n",
       "      <td>False</td>\n",
       "      <td>False</td>\n",
       "      <td>False</td>\n",
       "      <td>False</td>\n",
       "      <td>False</td>\n",
       "    </tr>\n",
       "    <tr>\n",
       "      <th>3</th>\n",
       "      <td>1</td>\n",
       "      <td>binary 0/1</td>\n",
       "      <td>360</td>\n",
       "      <td>race</td>\n",
       "      <td>Caucasian</td>\n",
       "      <td>0.029068</td>\n",
       "      <td>0.977340</td>\n",
       "      <td>0.360300</td>\n",
       "      <td>0.578947</td>\n",
       "      <td>0.022660</td>\n",
       "      <td>0.970932</td>\n",
       "      <td>0.639700</td>\n",
       "      <td>0.421053</td>\n",
       "      <td>266</td>\n",
       "      <td>10383</td>\n",
       "      <td>0.738889</td>\n",
       "      <td>0.024979</td>\n",
       "      <td>154</td>\n",
       "      <td>3741</td>\n",
       "      <td>6642</td>\n",
       "      <td>112</td>\n",
       "      <td>3853</td>\n",
       "      <td>6796</td>\n",
       "      <td>10649</td>\n",
       "      <td>14303</td>\n",
       "      <td>0.361818</td>\n",
       "      <td>1.000000</td>\n",
       "      <td>1.000000</td>\n",
       "      <td>1.000000</td>\n",
       "      <td>1.000000</td>\n",
       "      <td>1.000000</td>\n",
       "      <td>1.000000</td>\n",
       "      <td>1.000000</td>\n",
       "      <td>1.000000</td>\n",
       "      <td>1.000000</td>\n",
       "      <td>1.000000</td>\n",
       "      <td>Caucasian</td>\n",
       "      <td>Caucasian</td>\n",
       "      <td>Caucasian</td>\n",
       "      <td>Caucasian</td>\n",
       "      <td>Caucasian</td>\n",
       "      <td>Caucasian</td>\n",
       "      <td>Caucasian</td>\n",
       "      <td>Caucasian</td>\n",
       "      <td>Caucasian</td>\n",
       "      <td>Caucasian</td>\n",
       "      <td>True</td>\n",
       "      <td>True</td>\n",
       "      <td>True</td>\n",
       "      <td>True</td>\n",
       "      <td>True</td>\n",
       "      <td>True</td>\n",
       "      <td>True</td>\n",
       "      <td>True</td>\n",
       "      <td>True</td>\n",
       "      <td>True</td>\n",
       "      <td>True</td>\n",
       "      <td>True</td>\n",
       "      <td>True</td>\n",
       "      <td>True</td>\n",
       "      <td>True</td>\n",
       "    </tr>\n",
       "    <tr>\n",
       "      <th>4</th>\n",
       "      <td>1</td>\n",
       "      <td>binary 0/1</td>\n",
       "      <td>360</td>\n",
       "      <td>race</td>\n",
       "      <td>Hispanic</td>\n",
       "      <td>0.028302</td>\n",
       "      <td>0.980861</td>\n",
       "      <td>0.334416</td>\n",
       "      <td>0.571429</td>\n",
       "      <td>0.019139</td>\n",
       "      <td>0.971698</td>\n",
       "      <td>0.665584</td>\n",
       "      <td>0.428571</td>\n",
       "      <td>7</td>\n",
       "      <td>308</td>\n",
       "      <td>0.019444</td>\n",
       "      <td>0.022222</td>\n",
       "      <td>4</td>\n",
       "      <td>103</td>\n",
       "      <td>205</td>\n",
       "      <td>3</td>\n",
       "      <td>106</td>\n",
       "      <td>209</td>\n",
       "      <td>315</td>\n",
       "      <td>14303</td>\n",
       "      <td>0.336508</td>\n",
       "      <td>0.026316</td>\n",
       "      <td>0.889641</td>\n",
       "      <td>1.017857</td>\n",
       "      <td>0.987013</td>\n",
       "      <td>0.928157</td>\n",
       "      <td>0.844591</td>\n",
       "      <td>1.000789</td>\n",
       "      <td>0.973635</td>\n",
       "      <td>1.003603</td>\n",
       "      <td>1.040464</td>\n",
       "      <td>Caucasian</td>\n",
       "      <td>Caucasian</td>\n",
       "      <td>Caucasian</td>\n",
       "      <td>Caucasian</td>\n",
       "      <td>Caucasian</td>\n",
       "      <td>Caucasian</td>\n",
       "      <td>Caucasian</td>\n",
       "      <td>Caucasian</td>\n",
       "      <td>Caucasian</td>\n",
       "      <td>Caucasian</td>\n",
       "      <td>False</td>\n",
       "      <td>True</td>\n",
       "      <td>True</td>\n",
       "      <td>True</td>\n",
       "      <td>True</td>\n",
       "      <td>True</td>\n",
       "      <td>True</td>\n",
       "      <td>True</td>\n",
       "      <td>True</td>\n",
       "      <td>True</td>\n",
       "      <td>True</td>\n",
       "      <td>True</td>\n",
       "      <td>True</td>\n",
       "      <td>False</td>\n",
       "      <td>True</td>\n",
       "    </tr>\n",
       "    <tr>\n",
       "      <th>5</th>\n",
       "      <td>1</td>\n",
       "      <td>binary 0/1</td>\n",
       "      <td>360</td>\n",
       "      <td>race</td>\n",
       "      <td>Other</td>\n",
       "      <td>0.012658</td>\n",
       "      <td>0.987500</td>\n",
       "      <td>0.330508</td>\n",
       "      <td>0.666667</td>\n",
       "      <td>0.012500</td>\n",
       "      <td>0.987342</td>\n",
       "      <td>0.669492</td>\n",
       "      <td>0.333333</td>\n",
       "      <td>3</td>\n",
       "      <td>236</td>\n",
       "      <td>0.008333</td>\n",
       "      <td>0.012552</td>\n",
       "      <td>2</td>\n",
       "      <td>78</td>\n",
       "      <td>158</td>\n",
       "      <td>1</td>\n",
       "      <td>79</td>\n",
       "      <td>160</td>\n",
       "      <td>239</td>\n",
       "      <td>14303</td>\n",
       "      <td>0.330544</td>\n",
       "      <td>0.011278</td>\n",
       "      <td>0.502517</td>\n",
       "      <td>0.791667</td>\n",
       "      <td>1.151515</td>\n",
       "      <td>0.917313</td>\n",
       "      <td>0.551623</td>\n",
       "      <td>1.016901</td>\n",
       "      <td>0.435466</td>\n",
       "      <td>1.010396</td>\n",
       "      <td>1.046572</td>\n",
       "      <td>Caucasian</td>\n",
       "      <td>Caucasian</td>\n",
       "      <td>Caucasian</td>\n",
       "      <td>Caucasian</td>\n",
       "      <td>Caucasian</td>\n",
       "      <td>Caucasian</td>\n",
       "      <td>Caucasian</td>\n",
       "      <td>Caucasian</td>\n",
       "      <td>Caucasian</td>\n",
       "      <td>Caucasian</td>\n",
       "      <td>False</td>\n",
       "      <td>False</td>\n",
       "      <td>True</td>\n",
       "      <td>False</td>\n",
       "      <td>True</td>\n",
       "      <td>True</td>\n",
       "      <td>False</td>\n",
       "      <td>True</td>\n",
       "      <td>True</td>\n",
       "      <td>False</td>\n",
       "      <td>False</td>\n",
       "      <td>True</td>\n",
       "      <td>False</td>\n",
       "      <td>False</td>\n",
       "      <td>False</td>\n",
       "    </tr>\n",
       "    <tr>\n",
       "      <th>6</th>\n",
       "      <td>1</td>\n",
       "      <td>binary 0/1</td>\n",
       "      <td>360</td>\n",
       "      <td>gender</td>\n",
       "      <td>Female</td>\n",
       "      <td>0.025043</td>\n",
       "      <td>0.977999</td>\n",
       "      <td>0.377458</td>\n",
       "      <td>0.590909</td>\n",
       "      <td>0.022001</td>\n",
       "      <td>0.974957</td>\n",
       "      <td>0.622542</td>\n",
       "      <td>0.409091</td>\n",
       "      <td>176</td>\n",
       "      <td>7426</td>\n",
       "      <td>0.488889</td>\n",
       "      <td>0.023152</td>\n",
       "      <td>104</td>\n",
       "      <td>2803</td>\n",
       "      <td>4623</td>\n",
       "      <td>72</td>\n",
       "      <td>2875</td>\n",
       "      <td>4727</td>\n",
       "      <td>7602</td>\n",
       "      <td>14303</td>\n",
       "      <td>0.378190</td>\n",
       "      <td>0.956522</td>\n",
       "      <td>0.843153</td>\n",
       "      <td>0.917960</td>\n",
       "      <td>1.065954</td>\n",
       "      <td>1.096697</td>\n",
       "      <td>0.943898</td>\n",
       "      <td>1.010599</td>\n",
       "      <td>0.710074</td>\n",
       "      <td>1.001339</td>\n",
       "      <td>0.949253</td>\n",
       "      <td>Male</td>\n",
       "      <td>Male</td>\n",
       "      <td>Male</td>\n",
       "      <td>Male</td>\n",
       "      <td>Male</td>\n",
       "      <td>Male</td>\n",
       "      <td>Male</td>\n",
       "      <td>Male</td>\n",
       "      <td>Male</td>\n",
       "      <td>Male</td>\n",
       "      <td>True</td>\n",
       "      <td>True</td>\n",
       "      <td>True</td>\n",
       "      <td>True</td>\n",
       "      <td>True</td>\n",
       "      <td>True</td>\n",
       "      <td>False</td>\n",
       "      <td>True</td>\n",
       "      <td>True</td>\n",
       "      <td>True</td>\n",
       "      <td>True</td>\n",
       "      <td>True</td>\n",
       "      <td>False</td>\n",
       "      <td>True</td>\n",
       "      <td>True</td>\n",
       "    </tr>\n",
       "    <tr>\n",
       "      <th>7</th>\n",
       "      <td>1</td>\n",
       "      <td>binary 0/1</td>\n",
       "      <td>360</td>\n",
       "      <td>gender</td>\n",
       "      <td>Male</td>\n",
       "      <td>0.035269</td>\n",
       "      <td>0.976691</td>\n",
       "      <td>0.344177</td>\n",
       "      <td>0.554348</td>\n",
       "      <td>0.023309</td>\n",
       "      <td>0.964731</td>\n",
       "      <td>0.655823</td>\n",
       "      <td>0.445652</td>\n",
       "      <td>184</td>\n",
       "      <td>6517</td>\n",
       "      <td>0.511111</td>\n",
       "      <td>0.027459</td>\n",
       "      <td>102</td>\n",
       "      <td>2243</td>\n",
       "      <td>4274</td>\n",
       "      <td>82</td>\n",
       "      <td>2325</td>\n",
       "      <td>4376</td>\n",
       "      <td>6701</td>\n",
       "      <td>14303</td>\n",
       "      <td>0.346963</td>\n",
       "      <td>1.000000</td>\n",
       "      <td>1.000000</td>\n",
       "      <td>1.000000</td>\n",
       "      <td>1.000000</td>\n",
       "      <td>1.000000</td>\n",
       "      <td>1.000000</td>\n",
       "      <td>1.000000</td>\n",
       "      <td>1.000000</td>\n",
       "      <td>1.000000</td>\n",
       "      <td>1.000000</td>\n",
       "      <td>Male</td>\n",
       "      <td>Male</td>\n",
       "      <td>Male</td>\n",
       "      <td>Male</td>\n",
       "      <td>Male</td>\n",
       "      <td>Male</td>\n",
       "      <td>Male</td>\n",
       "      <td>Male</td>\n",
       "      <td>Male</td>\n",
       "      <td>Male</td>\n",
       "      <td>True</td>\n",
       "      <td>True</td>\n",
       "      <td>True</td>\n",
       "      <td>True</td>\n",
       "      <td>True</td>\n",
       "      <td>True</td>\n",
       "      <td>True</td>\n",
       "      <td>True</td>\n",
       "      <td>True</td>\n",
       "      <td>True</td>\n",
       "      <td>True</td>\n",
       "      <td>True</td>\n",
       "      <td>True</td>\n",
       "      <td>True</td>\n",
       "      <td>True</td>\n",
       "    </tr>\n",
       "  </tbody>\n",
       "</table>\n",
       "</div>"
      ],
      "text/plain": [
       "   model_id score_threshold    k attribute_name  attribute_value       tpr  \\\n",
       "0         1      binary 0/1  360           race                ?  0.033557   \n",
       "1         1      binary 0/1  360           race  AfricanAmerican  0.032487   \n",
       "2         1      binary 0/1  360           race            Asian  0.035714   \n",
       "3         1      binary 0/1  360           race        Caucasian  0.029068   \n",
       "4         1      binary 0/1  360           race         Hispanic  0.028302   \n",
       "5         1      binary 0/1  360           race            Other  0.012658   \n",
       "6         1      binary 0/1  360         gender           Female  0.025043   \n",
       "7         1      binary 0/1  360         gender             Male  0.035269   \n",
       "\n",
       "        tnr       for       fdr       fpr       fnr       npv  precision   pp  \\\n",
       "0  0.975904  0.372093  0.545455  0.024096  0.966443  0.627907   0.454545   11   \n",
       "1  0.975124  0.378025  0.555556  0.024876  0.967513  0.621975   0.444444   72   \n",
       "2  1.000000  0.250000  0.000000  0.000000  0.964286  0.750000   1.000000    1   \n",
       "3  0.977340  0.360300  0.578947  0.022660  0.970932  0.639700   0.421053  266   \n",
       "4  0.980861  0.334416  0.571429  0.019139  0.971698  0.665584   0.428571    7   \n",
       "5  0.987500  0.330508  0.666667  0.012500  0.987342  0.669492   0.333333    3   \n",
       "6  0.977999  0.377458  0.590909  0.022001  0.974957  0.622542   0.409091  176   \n",
       "7  0.976691  0.344177  0.554348  0.023309  0.964731  0.655823   0.445652  184   \n",
       "\n",
       "      pn       ppr     pprev   fp    fn    tn   tp  group_label_pos  \\\n",
       "0    387  0.030556  0.027638    6   144   243    5              149   \n",
       "1   2521  0.200000  0.027767   40   953  1568   32              985   \n",
       "2    108  0.002778  0.009174    0    27    81    1               28   \n",
       "3  10383  0.738889  0.024979  154  3741  6642  112             3853   \n",
       "4    308  0.019444  0.022222    4   103   205    3              106   \n",
       "5    236  0.008333  0.012552    2    78   158    1               79   \n",
       "6   7426  0.488889  0.023152  104  2803  4623   72             2875   \n",
       "7   6517  0.511111  0.027459  102  2243  4274   82             2325   \n",
       "\n",
       "   group_label_neg  group_size  total_entities      prev  ppr_disparity  \\\n",
       "0              249         398           14303  0.374372       0.041353   \n",
       "1             1608        2593           14303  0.379869       0.270677   \n",
       "2               81         109           14303  0.256881       0.003759   \n",
       "3             6796       10649           14303  0.361818       1.000000   \n",
       "4              209         315           14303  0.336508       0.026316   \n",
       "5              160         239           14303  0.330544       0.011278   \n",
       "6             4727        7602           14303  0.378190       0.956522   \n",
       "7             4376        6701           14303  0.346963       1.000000   \n",
       "\n",
       "   pprev_disparity  precision_disparity  fdr_disparity  for_disparity  \\\n",
       "0         1.106463             1.079545       0.942149       1.032730   \n",
       "1         1.111622             1.055556       0.959596       1.049193   \n",
       "2         0.367283             2.375000       0.000000       0.693865   \n",
       "3         1.000000             1.000000       1.000000       1.000000   \n",
       "4         0.889641             1.017857       0.987013       0.928157   \n",
       "5         0.502517             0.791667       1.151515       0.917313   \n",
       "6         0.843153             0.917960       1.065954       1.096697   \n",
       "7         1.000000             1.000000       1.000000       1.000000   \n",
       "\n",
       "   fpr_disparity  fnr_disparity  tpr_disparity  tnr_disparity  npv_disparity  \\\n",
       "0       1.063370       0.995377       1.154422       0.998531       0.981566   \n",
       "1       1.097758       0.996479       1.117621       0.997733       0.972293   \n",
       "2       0.000000       0.993155       1.228635       1.023186       1.172425   \n",
       "3       1.000000       1.000000       1.000000       1.000000       1.000000   \n",
       "4       0.844591       1.000789       0.973635       1.003603       1.040464   \n",
       "5       0.551623       1.016901       0.435466       1.010396       1.046572   \n",
       "6       0.943898       1.010599       0.710074       1.001339       0.949253   \n",
       "7       1.000000       1.000000       1.000000       1.000000       1.000000   \n",
       "\n",
       "  ppr_ref_group_value pprev_ref_group_value precision_ref_group_value  \\\n",
       "0           Caucasian             Caucasian                 Caucasian   \n",
       "1           Caucasian             Caucasian                 Caucasian   \n",
       "2           Caucasian             Caucasian                 Caucasian   \n",
       "3           Caucasian             Caucasian                 Caucasian   \n",
       "4           Caucasian             Caucasian                 Caucasian   \n",
       "5           Caucasian             Caucasian                 Caucasian   \n",
       "6                Male                  Male                      Male   \n",
       "7                Male                  Male                      Male   \n",
       "\n",
       "  fdr_ref_group_value for_ref_group_value fpr_ref_group_value  \\\n",
       "0           Caucasian           Caucasian           Caucasian   \n",
       "1           Caucasian           Caucasian           Caucasian   \n",
       "2           Caucasian           Caucasian           Caucasian   \n",
       "3           Caucasian           Caucasian           Caucasian   \n",
       "4           Caucasian           Caucasian           Caucasian   \n",
       "5           Caucasian           Caucasian           Caucasian   \n",
       "6                Male                Male                Male   \n",
       "7                Male                Male                Male   \n",
       "\n",
       "  fnr_ref_group_value tpr_ref_group_value tnr_ref_group_value  \\\n",
       "0           Caucasian           Caucasian           Caucasian   \n",
       "1           Caucasian           Caucasian           Caucasian   \n",
       "2           Caucasian           Caucasian           Caucasian   \n",
       "3           Caucasian           Caucasian           Caucasian   \n",
       "4           Caucasian           Caucasian           Caucasian   \n",
       "5           Caucasian           Caucasian           Caucasian   \n",
       "6                Male                Male                Male   \n",
       "7                Male                Male                Male   \n",
       "\n",
       "  npv_ref_group_value  Statistical Parity  Impact Parity  FDR Parity  \\\n",
       "0           Caucasian               False           True        True   \n",
       "1           Caucasian               False           True        True   \n",
       "2           Caucasian               False          False       False   \n",
       "3           Caucasian                True           True        True   \n",
       "4           Caucasian               False           True        True   \n",
       "5           Caucasian               False          False        True   \n",
       "6                Male                True           True        True   \n",
       "7                Male                True           True        True   \n",
       "\n",
       "   FPR Parity  FOR Parity  FNR Parity  TPR Parity  TNR Parity  NPV Parity  \\\n",
       "0        True        True        True        True        True        True   \n",
       "1        True        True        True        True        True        True   \n",
       "2       False       False        True        True        True        True   \n",
       "3        True        True        True        True        True        True   \n",
       "4        True        True        True        True        True        True   \n",
       "5       False        True        True       False        True        True   \n",
       "6        True        True        True       False        True        True   \n",
       "7        True        True        True        True        True        True   \n",
       "\n",
       "   Precision Parity  TypeI Parity  TypeII Parity  Equalized Odds  \\\n",
       "0              True          True           True            True   \n",
       "1              True          True           True            True   \n",
       "2             False         False          False           False   \n",
       "3              True          True           True            True   \n",
       "4              True          True           True            True   \n",
       "5             False         False           True           False   \n",
       "6              True          True           True           False   \n",
       "7              True          True           True            True   \n",
       "\n",
       "   Unsupervised Fairness  Supervised Fairness  \n",
       "0                  False                 True  \n",
       "1                  False                 True  \n",
       "2                  False                False  \n",
       "3                   True                 True  \n",
       "4                  False                 True  \n",
       "5                  False                False  \n",
       "6                   True                 True  \n",
       "7                   True                 True  "
      ]
     },
     "execution_count": 83,
     "metadata": {},
     "output_type": "execute_result"
    }
   ],
   "source": [
    "fdf"
   ]
  },
  {
   "cell_type": "markdown",
   "metadata": {},
   "source": [
    "## Race and Gender Bias Analysis for Patient Selection"
   ]
  },
  {
   "cell_type": "markdown",
   "metadata": {},
   "source": [
    "**Question 12**: For the gender and race fields, please plot two metrics that are important for patient selection below and state whether there is a significant bias in your model across any of the groups along with justification for your statement."
   ]
  },
  {
   "cell_type": "code",
   "execution_count": 84,
   "metadata": {},
   "outputs": [],
   "source": [
    "# Plot two metrics\n",
    "\n",
    "# Is there significant bias in your model for either race or gender?"
   ]
  },
  {
   "cell_type": "code",
   "execution_count": 85,
   "metadata": {},
   "outputs": [
    {
     "data": {
      "image/png": "[encoded data removed]",
      "text/plain": [
       "<Figure size 720x360 with 1 Axes>"
      ]
     },
     "metadata": {},
     "output_type": "display_data"
    }
   ],
   "source": [
    "tpr = aqp.plot_group_metric(clean_xtab, 'tpr', min_group_size=0.00)"
   ]
  },
  {
   "cell_type": "code",
   "execution_count": 86,
   "metadata": {},
   "outputs": [
    {
     "data": {
      "image/png": "[encoded data removed]",
      "text/plain": [
       "<Figure size 720x360 with 1 Axes>"
      ]
     },
     "metadata": {},
     "output_type": "display_data"
    }
   ],
   "source": [
    "fpr = aqp.plot_group_metric(clean_xtab, 'fpr', min_group_size=0.00)"
   ]
  },
  {
   "cell_type": "code",
   "execution_count": 87,
   "metadata": {},
   "outputs": [
    {
     "data": {
      "image/png": "[encoded data removed]",
      "text/plain": [
       "<Figure size 720x360 with 1 Axes>"
      ]
     },
     "metadata": {},
     "output_type": "display_data"
    }
   ],
   "source": [
    "tnr = aqp.plot_group_metric(clean_xtab, 'tnr', min_group_size=0.00)"
   ]
  },
  {
   "cell_type": "code",
   "execution_count": 88,
   "metadata": {},
   "outputs": [
    {
     "data": {
      "image/png": "[encoded data removed]",
      "text/plain": [
       "<Figure size 720x360 with 1 Axes>"
      ]
     },
     "metadata": {},
     "output_type": "display_data"
    }
   ],
   "source": [
    "fnr = aqp.plot_group_metric(clean_xtab, 'fnr', min_group_size=0.00)"
   ]
  },
  {
   "cell_type": "code",
   "execution_count": 89,
   "metadata": {},
   "outputs": [
    {
     "data": {
      "image/png": "[encoded data removed]",
      "text/plain": [
       "<Figure size 1800x432 with 5 Axes>"
      ]
     },
     "metadata": {},
     "output_type": "display_data"
    }
   ],
   "source": [
    "p = aqp.plot_group_metric_all(clean_xtab, metrics=['tpr', 'fpr', 'ppr', 'pprev', 'fnr'], ncols=5)"
   ]
  },
  {
   "cell_type": "markdown",
   "metadata": {},
   "source": [
    "False Negative Rate (FNR) means the proportion of tests that indicate no disease, but actually have the disease.\n",
    "\n",
    "Using Caucasian population as base, we see that Asian population has higher FNR, which means the test is less likely to detect diseases in the Asian population.\n",
    "\n",
    "This could be problematic if used uniformly for diagnosis on the entire population."
   ]
  },
  {
   "cell_type": "markdown",
   "metadata": {},
   "source": [
    "## Fairness Analysis Example - Relative to a Reference Group "
   ]
  },
  {
   "cell_type": "markdown",
   "metadata": {},
   "source": [
    "**Question 13**: Earlier we defined our reference group and then calculated disparity metrics relative to this grouping. Please provide a visualization of the fairness evaluation for this reference group and analyze whether there is disparity."
   ]
  },
  {
   "cell_type": "code",
   "execution_count": 90,
   "metadata": {},
   "outputs": [],
   "source": [
    "# Reference group fairness plot"
   ]
  },
  {
   "cell_type": "code",
   "execution_count": 91,
   "metadata": {},
   "outputs": [
    {
     "data": {
      "image/png": "[encoded data removed]",
      "text/plain": [
       "<Figure size 360x288 with 2 Axes>"
      ]
     },
     "metadata": {},
     "output_type": "display_data"
    }
   ],
   "source": [
    "fpr_disparity = aqp.plot_disparity(bdf, group_metric='fpr_disparity', attribute_name='race')"
   ]
  },
  {
   "cell_type": "code",
   "execution_count": 92,
   "metadata": {},
   "outputs": [
    {
     "data": {
      "image/png": "[encoded data removed]",
      "text/plain": [
       "<Figure size 360x288 with 2 Axes>"
      ]
     },
     "metadata": {},
     "output_type": "display_data"
    }
   ],
   "source": [
    "fpr_disparity = aqp.plot_disparity(bdf, group_metric='fpr_disparity', attribute_name='gender')"
   ]
  },
  {
   "cell_type": "markdown",
   "metadata": {},
   "source": [
    "Absolute Value Fairness Determination:\n",
    "    \n",
    "- Red = False/Not Fair\n",
    "- Green = True/Fair"
   ]
  },
  {
   "cell_type": "code",
   "execution_count": 93,
   "metadata": {},
   "outputs": [
    {
     "data": {
      "image/png": "[encoded data removed]",
      "text/plain": [
       "<Figure size 720x360 with 1 Axes>"
      ]
     },
     "metadata": {},
     "output_type": "display_data"
    }
   ],
   "source": [
    "fpr_fairness = aqp.plot_fairness_group(fdf, group_metric='fpr', title=True)"
   ]
  },
  {
   "cell_type": "code",
   "execution_count": null,
   "metadata": {},
   "outputs": [],
   "source": []
  }
 ],
 "metadata": {
  "kernelspec": {
   "display_name": "py38ml_tf",
   "language": "python",
   "name": "py38ml_tf"
  },
  "language_info": {
   "codemirror_mode": {
    "name": "ipython",
    "version": 3
   },
   "file_extension": ".py",
   "mimetype": "text/x-python",
   "name": "python",
   "nbconvert_exporter": "python",
   "pygments_lexer": "ipython3",
   "version": "3.8.3"
  }
 },
 "nbformat": 4,
 "nbformat_minor": 4
}
